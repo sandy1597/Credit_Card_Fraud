{
  "nbformat": 4,
  "nbformat_minor": 0,
  "metadata": {
    "colab": {
      "provenance": [],
      "toc_visible": true
    },
    "kernelspec": {
      "name": "python3",
      "display_name": "Python 3"
    },
    "language_info": {
      "name": "python"
    },
    "accelerator": "TPU",
    "gpuClass": "standard"
  },
  "cells": [
    {
      "cell_type": "code",
      "execution_count": 1,
      "metadata": {
        "colab": {
          "base_uri": "https://localhost:8080/"
        },
        "id": "0k5NOOMw4u9g",
        "outputId": "98bfed8c-ec3b-43a2-c04f-4593a2c33336"
      },
      "outputs": [
        {
          "output_type": "stream",
          "name": "stdout",
          "text": [
            "Drive already mounted at /content/drive/; to attempt to forcibly remount, call drive.mount(\"/content/drive/\", force_remount=True).\n"
          ]
        }
      ],
      "source": [
        "from google.colab import drive\n",
        "drive.mount('/content/drive/')"
      ]
    },
    {
      "cell_type": "code",
      "source": [
        "import numpy as np\n",
        "import pandas as pd\n",
        "import seaborn as sns\n",
        "import plotly.express as px\n",
        "from matplotlib import pyplot as plt\n",
        "from sklearn.model_selection import cross_val_score\n",
        "\n",
        "from sklearn import metrics\n",
        "from collections import Counter\n"
      ],
      "metadata": {
        "id": "kSRG0DF35I5_"
      },
      "execution_count": 2,
      "outputs": []
    },
    {
      "cell_type": "code",
      "source": [
        "raw_df = pd.read_csv('drive/MyDrive/STT811 Project/fraudTrain.csv')\n"
      ],
      "metadata": {
        "id": "1dL3QAzT5F7T"
      },
      "execution_count": 3,
      "outputs": []
    },
    {
      "cell_type": "code",
      "source": [
        "raw_df.head()"
      ],
      "metadata": {
        "colab": {
          "base_uri": "https://localhost:8080/",
          "height": 586
        },
        "id": "qVuHdlwHCTcq",
        "outputId": "c85cf2f5-c3b2-4c58-9eaa-f35e3a109ffb"
      },
      "execution_count": 4,
      "outputs": [
        {
          "output_type": "execute_result",
          "data": {
            "text/plain": [
              "   Unnamed: 0 trans_date_trans_time            cc_num  \\\n",
              "0           0   2019-01-01 00:00:18  2703186189652095   \n",
              "1           1   2019-01-01 00:00:44      630423337322   \n",
              "2           2   2019-01-01 00:00:51    38859492057661   \n",
              "3           3   2019-01-01 00:01:16  3534093764340240   \n",
              "4           4   2019-01-01 00:03:06   375534208663984   \n",
              "\n",
              "                             merchant       category     amt      first  \\\n",
              "0          fraud_Rippin, Kub and Mann       misc_net    4.97   Jennifer   \n",
              "1     fraud_Heller, Gutmann and Zieme    grocery_pos  107.23  Stephanie   \n",
              "2                fraud_Lind-Buckridge  entertainment  220.11     Edward   \n",
              "3  fraud_Kutch, Hermiston and Farrell  gas_transport   45.00     Jeremy   \n",
              "4                 fraud_Keeling-Crist       misc_pos   41.96      Tyler   \n",
              "\n",
              "      last gender                        street  ...      lat      long  \\\n",
              "0    Banks      F                561 Perry Cove  ...  36.0788  -81.1781   \n",
              "1     Gill      F  43039 Riley Greens Suite 393  ...  48.8878 -118.2105   \n",
              "2  Sanchez      M      594 White Dale Suite 530  ...  42.1808 -112.2620   \n",
              "3    White      M   9443 Cynthia Court Apt. 038  ...  46.2306 -112.1138   \n",
              "4   Garcia      M              408 Bradley Rest  ...  38.4207  -79.4629   \n",
              "\n",
              "   city_pop                                job         dob  \\\n",
              "0      3495          Psychologist, counselling  1988-03-09   \n",
              "1       149  Special educational needs teacher  1978-06-21   \n",
              "2      4154        Nature conservation officer  1962-01-19   \n",
              "3      1939                    Patent attorney  1967-01-12   \n",
              "4        99     Dance movement psychotherapist  1986-03-28   \n",
              "\n",
              "                          trans_num   unix_time  merch_lat  merch_long  \\\n",
              "0  0b242abb623afc578575680df30655b9  1325376018  36.011293  -82.048315   \n",
              "1  1f76529f8574734946361c461b024d99  1325376044  49.159047 -118.186462   \n",
              "2  a1a22d70485983eac12b5b88dad1cf95  1325376051  43.150704 -112.154481   \n",
              "3  6b849c168bdad6f867558c3793159a81  1325376076  47.034331 -112.561071   \n",
              "4  a41d7549acf90789359a9aa5346dcb46  1325376186  38.674999  -78.632459   \n",
              "\n",
              "   is_fraud  \n",
              "0         0  \n",
              "1         0  \n",
              "2         0  \n",
              "3         0  \n",
              "4         0  \n",
              "\n",
              "[5 rows x 23 columns]"
            ],
            "text/html": [
              "\n",
              "  <div id=\"df-56904c14-3236-4ff6-aca1-624200f5f046\">\n",
              "    <div class=\"colab-df-container\">\n",
              "      <div>\n",
              "<style scoped>\n",
              "    .dataframe tbody tr th:only-of-type {\n",
              "        vertical-align: middle;\n",
              "    }\n",
              "\n",
              "    .dataframe tbody tr th {\n",
              "        vertical-align: top;\n",
              "    }\n",
              "\n",
              "    .dataframe thead th {\n",
              "        text-align: right;\n",
              "    }\n",
              "</style>\n",
              "<table border=\"1\" class=\"dataframe\">\n",
              "  <thead>\n",
              "    <tr style=\"text-align: right;\">\n",
              "      <th></th>\n",
              "      <th>Unnamed: 0</th>\n",
              "      <th>trans_date_trans_time</th>\n",
              "      <th>cc_num</th>\n",
              "      <th>merchant</th>\n",
              "      <th>category</th>\n",
              "      <th>amt</th>\n",
              "      <th>first</th>\n",
              "      <th>last</th>\n",
              "      <th>gender</th>\n",
              "      <th>street</th>\n",
              "      <th>...</th>\n",
              "      <th>lat</th>\n",
              "      <th>long</th>\n",
              "      <th>city_pop</th>\n",
              "      <th>job</th>\n",
              "      <th>dob</th>\n",
              "      <th>trans_num</th>\n",
              "      <th>unix_time</th>\n",
              "      <th>merch_lat</th>\n",
              "      <th>merch_long</th>\n",
              "      <th>is_fraud</th>\n",
              "    </tr>\n",
              "  </thead>\n",
              "  <tbody>\n",
              "    <tr>\n",
              "      <th>0</th>\n",
              "      <td>0</td>\n",
              "      <td>2019-01-01 00:00:18</td>\n",
              "      <td>2703186189652095</td>\n",
              "      <td>fraud_Rippin, Kub and Mann</td>\n",
              "      <td>misc_net</td>\n",
              "      <td>4.97</td>\n",
              "      <td>Jennifer</td>\n",
              "      <td>Banks</td>\n",
              "      <td>F</td>\n",
              "      <td>561 Perry Cove</td>\n",
              "      <td>...</td>\n",
              "      <td>36.0788</td>\n",
              "      <td>-81.1781</td>\n",
              "      <td>3495</td>\n",
              "      <td>Psychologist, counselling</td>\n",
              "      <td>1988-03-09</td>\n",
              "      <td>0b242abb623afc578575680df30655b9</td>\n",
              "      <td>1325376018</td>\n",
              "      <td>36.011293</td>\n",
              "      <td>-82.048315</td>\n",
              "      <td>0</td>\n",
              "    </tr>\n",
              "    <tr>\n",
              "      <th>1</th>\n",
              "      <td>1</td>\n",
              "      <td>2019-01-01 00:00:44</td>\n",
              "      <td>630423337322</td>\n",
              "      <td>fraud_Heller, Gutmann and Zieme</td>\n",
              "      <td>grocery_pos</td>\n",
              "      <td>107.23</td>\n",
              "      <td>Stephanie</td>\n",
              "      <td>Gill</td>\n",
              "      <td>F</td>\n",
              "      <td>43039 Riley Greens Suite 393</td>\n",
              "      <td>...</td>\n",
              "      <td>48.8878</td>\n",
              "      <td>-118.2105</td>\n",
              "      <td>149</td>\n",
              "      <td>Special educational needs teacher</td>\n",
              "      <td>1978-06-21</td>\n",
              "      <td>1f76529f8574734946361c461b024d99</td>\n",
              "      <td>1325376044</td>\n",
              "      <td>49.159047</td>\n",
              "      <td>-118.186462</td>\n",
              "      <td>0</td>\n",
              "    </tr>\n",
              "    <tr>\n",
              "      <th>2</th>\n",
              "      <td>2</td>\n",
              "      <td>2019-01-01 00:00:51</td>\n",
              "      <td>38859492057661</td>\n",
              "      <td>fraud_Lind-Buckridge</td>\n",
              "      <td>entertainment</td>\n",
              "      <td>220.11</td>\n",
              "      <td>Edward</td>\n",
              "      <td>Sanchez</td>\n",
              "      <td>M</td>\n",
              "      <td>594 White Dale Suite 530</td>\n",
              "      <td>...</td>\n",
              "      <td>42.1808</td>\n",
              "      <td>-112.2620</td>\n",
              "      <td>4154</td>\n",
              "      <td>Nature conservation officer</td>\n",
              "      <td>1962-01-19</td>\n",
              "      <td>a1a22d70485983eac12b5b88dad1cf95</td>\n",
              "      <td>1325376051</td>\n",
              "      <td>43.150704</td>\n",
              "      <td>-112.154481</td>\n",
              "      <td>0</td>\n",
              "    </tr>\n",
              "    <tr>\n",
              "      <th>3</th>\n",
              "      <td>3</td>\n",
              "      <td>2019-01-01 00:01:16</td>\n",
              "      <td>3534093764340240</td>\n",
              "      <td>fraud_Kutch, Hermiston and Farrell</td>\n",
              "      <td>gas_transport</td>\n",
              "      <td>45.00</td>\n",
              "      <td>Jeremy</td>\n",
              "      <td>White</td>\n",
              "      <td>M</td>\n",
              "      <td>9443 Cynthia Court Apt. 038</td>\n",
              "      <td>...</td>\n",
              "      <td>46.2306</td>\n",
              "      <td>-112.1138</td>\n",
              "      <td>1939</td>\n",
              "      <td>Patent attorney</td>\n",
              "      <td>1967-01-12</td>\n",
              "      <td>6b849c168bdad6f867558c3793159a81</td>\n",
              "      <td>1325376076</td>\n",
              "      <td>47.034331</td>\n",
              "      <td>-112.561071</td>\n",
              "      <td>0</td>\n",
              "    </tr>\n",
              "    <tr>\n",
              "      <th>4</th>\n",
              "      <td>4</td>\n",
              "      <td>2019-01-01 00:03:06</td>\n",
              "      <td>375534208663984</td>\n",
              "      <td>fraud_Keeling-Crist</td>\n",
              "      <td>misc_pos</td>\n",
              "      <td>41.96</td>\n",
              "      <td>Tyler</td>\n",
              "      <td>Garcia</td>\n",
              "      <td>M</td>\n",
              "      <td>408 Bradley Rest</td>\n",
              "      <td>...</td>\n",
              "      <td>38.4207</td>\n",
              "      <td>-79.4629</td>\n",
              "      <td>99</td>\n",
              "      <td>Dance movement psychotherapist</td>\n",
              "      <td>1986-03-28</td>\n",
              "      <td>a41d7549acf90789359a9aa5346dcb46</td>\n",
              "      <td>1325376186</td>\n",
              "      <td>38.674999</td>\n",
              "      <td>-78.632459</td>\n",
              "      <td>0</td>\n",
              "    </tr>\n",
              "  </tbody>\n",
              "</table>\n",
              "<p>5 rows × 23 columns</p>\n",
              "</div>\n",
              "      <button class=\"colab-df-convert\" onclick=\"convertToInteractive('df-56904c14-3236-4ff6-aca1-624200f5f046')\"\n",
              "              title=\"Convert this dataframe to an interactive table.\"\n",
              "              style=\"display:none;\">\n",
              "        \n",
              "  <svg xmlns=\"http://www.w3.org/2000/svg\" height=\"24px\"viewBox=\"0 0 24 24\"\n",
              "       width=\"24px\">\n",
              "    <path d=\"M0 0h24v24H0V0z\" fill=\"none\"/>\n",
              "    <path d=\"M18.56 5.44l.94 2.06.94-2.06 2.06-.94-2.06-.94-.94-2.06-.94 2.06-2.06.94zm-11 1L8.5 8.5l.94-2.06 2.06-.94-2.06-.94L8.5 2.5l-.94 2.06-2.06.94zm10 10l.94 2.06.94-2.06 2.06-.94-2.06-.94-.94-2.06-.94 2.06-2.06.94z\"/><path d=\"M17.41 7.96l-1.37-1.37c-.4-.4-.92-.59-1.43-.59-.52 0-1.04.2-1.43.59L10.3 9.45l-7.72 7.72c-.78.78-.78 2.05 0 2.83L4 21.41c.39.39.9.59 1.41.59.51 0 1.02-.2 1.41-.59l7.78-7.78 2.81-2.81c.8-.78.8-2.07 0-2.86zM5.41 20L4 18.59l7.72-7.72 1.47 1.35L5.41 20z\"/>\n",
              "  </svg>\n",
              "      </button>\n",
              "      \n",
              "  <style>\n",
              "    .colab-df-container {\n",
              "      display:flex;\n",
              "      flex-wrap:wrap;\n",
              "      gap: 12px;\n",
              "    }\n",
              "\n",
              "    .colab-df-convert {\n",
              "      background-color: #E8F0FE;\n",
              "      border: none;\n",
              "      border-radius: 50%;\n",
              "      cursor: pointer;\n",
              "      display: none;\n",
              "      fill: #1967D2;\n",
              "      height: 32px;\n",
              "      padding: 0 0 0 0;\n",
              "      width: 32px;\n",
              "    }\n",
              "\n",
              "    .colab-df-convert:hover {\n",
              "      background-color: #E2EBFA;\n",
              "      box-shadow: 0px 1px 2px rgba(60, 64, 67, 0.3), 0px 1px 3px 1px rgba(60, 64, 67, 0.15);\n",
              "      fill: #174EA6;\n",
              "    }\n",
              "\n",
              "    [theme=dark] .colab-df-convert {\n",
              "      background-color: #3B4455;\n",
              "      fill: #D2E3FC;\n",
              "    }\n",
              "\n",
              "    [theme=dark] .colab-df-convert:hover {\n",
              "      background-color: #434B5C;\n",
              "      box-shadow: 0px 1px 3px 1px rgba(0, 0, 0, 0.15);\n",
              "      filter: drop-shadow(0px 1px 2px rgba(0, 0, 0, 0.3));\n",
              "      fill: #FFFFFF;\n",
              "    }\n",
              "  </style>\n",
              "\n",
              "      <script>\n",
              "        const buttonEl =\n",
              "          document.querySelector('#df-56904c14-3236-4ff6-aca1-624200f5f046 button.colab-df-convert');\n",
              "        buttonEl.style.display =\n",
              "          google.colab.kernel.accessAllowed ? 'block' : 'none';\n",
              "\n",
              "        async function convertToInteractive(key) {\n",
              "          const element = document.querySelector('#df-56904c14-3236-4ff6-aca1-624200f5f046');\n",
              "          const dataTable =\n",
              "            await google.colab.kernel.invokeFunction('convertToInteractive',\n",
              "                                                     [key], {});\n",
              "          if (!dataTable) return;\n",
              "\n",
              "          const docLinkHtml = 'Like what you see? Visit the ' +\n",
              "            '<a target=\"_blank\" href=https://colab.research.google.com/notebooks/data_table.ipynb>data table notebook</a>'\n",
              "            + ' to learn more about interactive tables.';\n",
              "          element.innerHTML = '';\n",
              "          dataTable['output_type'] = 'display_data';\n",
              "          await google.colab.output.renderOutput(dataTable, element);\n",
              "          const docLink = document.createElement('div');\n",
              "          docLink.innerHTML = docLinkHtml;\n",
              "          element.appendChild(docLink);\n",
              "        }\n",
              "      </script>\n",
              "    </div>\n",
              "  </div>\n",
              "  "
            ]
          },
          "metadata": {},
          "execution_count": 4
        }
      ]
    },
    {
      "cell_type": "code",
      "source": [
        "labels=[\"Genuine\",\"Fraud\"]\n",
        "\n",
        "fraud_or_not = raw_df[\"is_fraud\"].value_counts().tolist()\n",
        "values = [fraud_or_not[0], fraud_or_not[1]]\n",
        "\n",
        "fig = px.pie(values=raw_df['is_fraud'].value_counts(), names=labels , width=700, height=400, color_discrete_sequence=[\"skyblue\",\"black\"]\n",
        "             ,title=\"Fraud vs Genuine transactions\")\n",
        "fig.show()"
      ],
      "metadata": {
        "colab": {
          "base_uri": "https://localhost:8080/",
          "height": 417
        },
        "id": "M6E3yyQlCB2f",
        "outputId": "78d2245b-a6a2-4e32-f2dc-b56840a03478"
      },
      "execution_count": 5,
      "outputs": [
        {
          "output_type": "display_data",
          "data": {
            "text/html": [
              "<html>\n",
              "<head><meta charset=\"utf-8\" /></head>\n",
              "<body>\n",
              "    <div>            <script src=\"https://cdnjs.cloudflare.com/ajax/libs/mathjax/2.7.5/MathJax.js?config=TeX-AMS-MML_SVG\"></script><script type=\"text/javascript\">if (window.MathJax && window.MathJax.Hub && window.MathJax.Hub.Config) {window.MathJax.Hub.Config({SVG: {font: \"STIX-Web\"}});}</script>                <script type=\"text/javascript\">window.PlotlyConfig = {MathJaxConfig: 'local'};</script>\n",
              "        <script src=\"https://cdn.plot.ly/plotly-2.18.2.min.js\"></script>                <div id=\"4a83af9b-980d-46ae-b169-403bff0147ee\" class=\"plotly-graph-div\" style=\"height:400px; width:700px;\"></div>            <script type=\"text/javascript\">                                    window.PLOTLYENV=window.PLOTLYENV || {};                                    if (document.getElementById(\"4a83af9b-980d-46ae-b169-403bff0147ee\")) {                    Plotly.newPlot(                        \"4a83af9b-980d-46ae-b169-403bff0147ee\",                        [{\"domain\":{\"x\":[0.0,1.0],\"y\":[0.0,1.0]},\"hovertemplate\":\"label=%{label}<br>value=%{value}<extra></extra>\",\"labels\":[\"Genuine\",\"Fraud\"],\"legendgroup\":\"\",\"name\":\"\",\"showlegend\":true,\"values\":[1289169,7506],\"type\":\"pie\"}],                        {\"template\":{\"data\":{\"histogram2dcontour\":[{\"type\":\"histogram2dcontour\",\"colorbar\":{\"outlinewidth\":0,\"ticks\":\"\"},\"colorscale\":[[0.0,\"#0d0887\"],[0.1111111111111111,\"#46039f\"],[0.2222222222222222,\"#7201a8\"],[0.3333333333333333,\"#9c179e\"],[0.4444444444444444,\"#bd3786\"],[0.5555555555555556,\"#d8576b\"],[0.6666666666666666,\"#ed7953\"],[0.7777777777777778,\"#fb9f3a\"],[0.8888888888888888,\"#fdca26\"],[1.0,\"#f0f921\"]]}],\"choropleth\":[{\"type\":\"choropleth\",\"colorbar\":{\"outlinewidth\":0,\"ticks\":\"\"}}],\"histogram2d\":[{\"type\":\"histogram2d\",\"colorbar\":{\"outlinewidth\":0,\"ticks\":\"\"},\"colorscale\":[[0.0,\"#0d0887\"],[0.1111111111111111,\"#46039f\"],[0.2222222222222222,\"#7201a8\"],[0.3333333333333333,\"#9c179e\"],[0.4444444444444444,\"#bd3786\"],[0.5555555555555556,\"#d8576b\"],[0.6666666666666666,\"#ed7953\"],[0.7777777777777778,\"#fb9f3a\"],[0.8888888888888888,\"#fdca26\"],[1.0,\"#f0f921\"]]}],\"heatmap\":[{\"type\":\"heatmap\",\"colorbar\":{\"outlinewidth\":0,\"ticks\":\"\"},\"colorscale\":[[0.0,\"#0d0887\"],[0.1111111111111111,\"#46039f\"],[0.2222222222222222,\"#7201a8\"],[0.3333333333333333,\"#9c179e\"],[0.4444444444444444,\"#bd3786\"],[0.5555555555555556,\"#d8576b\"],[0.6666666666666666,\"#ed7953\"],[0.7777777777777778,\"#fb9f3a\"],[0.8888888888888888,\"#fdca26\"],[1.0,\"#f0f921\"]]}],\"heatmapgl\":[{\"type\":\"heatmapgl\",\"colorbar\":{\"outlinewidth\":0,\"ticks\":\"\"},\"colorscale\":[[0.0,\"#0d0887\"],[0.1111111111111111,\"#46039f\"],[0.2222222222222222,\"#7201a8\"],[0.3333333333333333,\"#9c179e\"],[0.4444444444444444,\"#bd3786\"],[0.5555555555555556,\"#d8576b\"],[0.6666666666666666,\"#ed7953\"],[0.7777777777777778,\"#fb9f3a\"],[0.8888888888888888,\"#fdca26\"],[1.0,\"#f0f921\"]]}],\"contourcarpet\":[{\"type\":\"contourcarpet\",\"colorbar\":{\"outlinewidth\":0,\"ticks\":\"\"}}],\"contour\":[{\"type\":\"contour\",\"colorbar\":{\"outlinewidth\":0,\"ticks\":\"\"},\"colorscale\":[[0.0,\"#0d0887\"],[0.1111111111111111,\"#46039f\"],[0.2222222222222222,\"#7201a8\"],[0.3333333333333333,\"#9c179e\"],[0.4444444444444444,\"#bd3786\"],[0.5555555555555556,\"#d8576b\"],[0.6666666666666666,\"#ed7953\"],[0.7777777777777778,\"#fb9f3a\"],[0.8888888888888888,\"#fdca26\"],[1.0,\"#f0f921\"]]}],\"surface\":[{\"type\":\"surface\",\"colorbar\":{\"outlinewidth\":0,\"ticks\":\"\"},\"colorscale\":[[0.0,\"#0d0887\"],[0.1111111111111111,\"#46039f\"],[0.2222222222222222,\"#7201a8\"],[0.3333333333333333,\"#9c179e\"],[0.4444444444444444,\"#bd3786\"],[0.5555555555555556,\"#d8576b\"],[0.6666666666666666,\"#ed7953\"],[0.7777777777777778,\"#fb9f3a\"],[0.8888888888888888,\"#fdca26\"],[1.0,\"#f0f921\"]]}],\"mesh3d\":[{\"type\":\"mesh3d\",\"colorbar\":{\"outlinewidth\":0,\"ticks\":\"\"}}],\"scatter\":[{\"fillpattern\":{\"fillmode\":\"overlay\",\"size\":10,\"solidity\":0.2},\"type\":\"scatter\"}],\"parcoords\":[{\"type\":\"parcoords\",\"line\":{\"colorbar\":{\"outlinewidth\":0,\"ticks\":\"\"}}}],\"scatterpolargl\":[{\"type\":\"scatterpolargl\",\"marker\":{\"colorbar\":{\"outlinewidth\":0,\"ticks\":\"\"}}}],\"bar\":[{\"error_x\":{\"color\":\"#2a3f5f\"},\"error_y\":{\"color\":\"#2a3f5f\"},\"marker\":{\"line\":{\"color\":\"#E5ECF6\",\"width\":0.5},\"pattern\":{\"fillmode\":\"overlay\",\"size\":10,\"solidity\":0.2}},\"type\":\"bar\"}],\"scattergeo\":[{\"type\":\"scattergeo\",\"marker\":{\"colorbar\":{\"outlinewidth\":0,\"ticks\":\"\"}}}],\"scatterpolar\":[{\"type\":\"scatterpolar\",\"marker\":{\"colorbar\":{\"outlinewidth\":0,\"ticks\":\"\"}}}],\"histogram\":[{\"marker\":{\"pattern\":{\"fillmode\":\"overlay\",\"size\":10,\"solidity\":0.2}},\"type\":\"histogram\"}],\"scattergl\":[{\"type\":\"scattergl\",\"marker\":{\"colorbar\":{\"outlinewidth\":0,\"ticks\":\"\"}}}],\"scatter3d\":[{\"type\":\"scatter3d\",\"line\":{\"colorbar\":{\"outlinewidth\":0,\"ticks\":\"\"}},\"marker\":{\"colorbar\":{\"outlinewidth\":0,\"ticks\":\"\"}}}],\"scattermapbox\":[{\"type\":\"scattermapbox\",\"marker\":{\"colorbar\":{\"outlinewidth\":0,\"ticks\":\"\"}}}],\"scatterternary\":[{\"type\":\"scatterternary\",\"marker\":{\"colorbar\":{\"outlinewidth\":0,\"ticks\":\"\"}}}],\"scattercarpet\":[{\"type\":\"scattercarpet\",\"marker\":{\"colorbar\":{\"outlinewidth\":0,\"ticks\":\"\"}}}],\"carpet\":[{\"aaxis\":{\"endlinecolor\":\"#2a3f5f\",\"gridcolor\":\"white\",\"linecolor\":\"white\",\"minorgridcolor\":\"white\",\"startlinecolor\":\"#2a3f5f\"},\"baxis\":{\"endlinecolor\":\"#2a3f5f\",\"gridcolor\":\"white\",\"linecolor\":\"white\",\"minorgridcolor\":\"white\",\"startlinecolor\":\"#2a3f5f\"},\"type\":\"carpet\"}],\"table\":[{\"cells\":{\"fill\":{\"color\":\"#EBF0F8\"},\"line\":{\"color\":\"white\"}},\"header\":{\"fill\":{\"color\":\"#C8D4E3\"},\"line\":{\"color\":\"white\"}},\"type\":\"table\"}],\"barpolar\":[{\"marker\":{\"line\":{\"color\":\"#E5ECF6\",\"width\":0.5},\"pattern\":{\"fillmode\":\"overlay\",\"size\":10,\"solidity\":0.2}},\"type\":\"barpolar\"}],\"pie\":[{\"automargin\":true,\"type\":\"pie\"}]},\"layout\":{\"autotypenumbers\":\"strict\",\"colorway\":[\"#636efa\",\"#EF553B\",\"#00cc96\",\"#ab63fa\",\"#FFA15A\",\"#19d3f3\",\"#FF6692\",\"#B6E880\",\"#FF97FF\",\"#FECB52\"],\"font\":{\"color\":\"#2a3f5f\"},\"hovermode\":\"closest\",\"hoverlabel\":{\"align\":\"left\"},\"paper_bgcolor\":\"white\",\"plot_bgcolor\":\"#E5ECF6\",\"polar\":{\"bgcolor\":\"#E5ECF6\",\"angularaxis\":{\"gridcolor\":\"white\",\"linecolor\":\"white\",\"ticks\":\"\"},\"radialaxis\":{\"gridcolor\":\"white\",\"linecolor\":\"white\",\"ticks\":\"\"}},\"ternary\":{\"bgcolor\":\"#E5ECF6\",\"aaxis\":{\"gridcolor\":\"white\",\"linecolor\":\"white\",\"ticks\":\"\"},\"baxis\":{\"gridcolor\":\"white\",\"linecolor\":\"white\",\"ticks\":\"\"},\"caxis\":{\"gridcolor\":\"white\",\"linecolor\":\"white\",\"ticks\":\"\"}},\"coloraxis\":{\"colorbar\":{\"outlinewidth\":0,\"ticks\":\"\"}},\"colorscale\":{\"sequential\":[[0.0,\"#0d0887\"],[0.1111111111111111,\"#46039f\"],[0.2222222222222222,\"#7201a8\"],[0.3333333333333333,\"#9c179e\"],[0.4444444444444444,\"#bd3786\"],[0.5555555555555556,\"#d8576b\"],[0.6666666666666666,\"#ed7953\"],[0.7777777777777778,\"#fb9f3a\"],[0.8888888888888888,\"#fdca26\"],[1.0,\"#f0f921\"]],\"sequentialminus\":[[0.0,\"#0d0887\"],[0.1111111111111111,\"#46039f\"],[0.2222222222222222,\"#7201a8\"],[0.3333333333333333,\"#9c179e\"],[0.4444444444444444,\"#bd3786\"],[0.5555555555555556,\"#d8576b\"],[0.6666666666666666,\"#ed7953\"],[0.7777777777777778,\"#fb9f3a\"],[0.8888888888888888,\"#fdca26\"],[1.0,\"#f0f921\"]],\"diverging\":[[0,\"#8e0152\"],[0.1,\"#c51b7d\"],[0.2,\"#de77ae\"],[0.3,\"#f1b6da\"],[0.4,\"#fde0ef\"],[0.5,\"#f7f7f7\"],[0.6,\"#e6f5d0\"],[0.7,\"#b8e186\"],[0.8,\"#7fbc41\"],[0.9,\"#4d9221\"],[1,\"#276419\"]]},\"xaxis\":{\"gridcolor\":\"white\",\"linecolor\":\"white\",\"ticks\":\"\",\"title\":{\"standoff\":15},\"zerolinecolor\":\"white\",\"automargin\":true,\"zerolinewidth\":2},\"yaxis\":{\"gridcolor\":\"white\",\"linecolor\":\"white\",\"ticks\":\"\",\"title\":{\"standoff\":15},\"zerolinecolor\":\"white\",\"automargin\":true,\"zerolinewidth\":2},\"scene\":{\"xaxis\":{\"backgroundcolor\":\"#E5ECF6\",\"gridcolor\":\"white\",\"linecolor\":\"white\",\"showbackground\":true,\"ticks\":\"\",\"zerolinecolor\":\"white\",\"gridwidth\":2},\"yaxis\":{\"backgroundcolor\":\"#E5ECF6\",\"gridcolor\":\"white\",\"linecolor\":\"white\",\"showbackground\":true,\"ticks\":\"\",\"zerolinecolor\":\"white\",\"gridwidth\":2},\"zaxis\":{\"backgroundcolor\":\"#E5ECF6\",\"gridcolor\":\"white\",\"linecolor\":\"white\",\"showbackground\":true,\"ticks\":\"\",\"zerolinecolor\":\"white\",\"gridwidth\":2}},\"shapedefaults\":{\"line\":{\"color\":\"#2a3f5f\"}},\"annotationdefaults\":{\"arrowcolor\":\"#2a3f5f\",\"arrowhead\":0,\"arrowwidth\":1},\"geo\":{\"bgcolor\":\"white\",\"landcolor\":\"#E5ECF6\",\"subunitcolor\":\"white\",\"showland\":true,\"showlakes\":true,\"lakecolor\":\"white\"},\"title\":{\"x\":0.05},\"mapbox\":{\"style\":\"light\"}}},\"legend\":{\"tracegroupgap\":0},\"title\":{\"text\":\"Fraud vs Genuine transactions\"},\"piecolorway\":[\"skyblue\",\"black\"],\"height\":400,\"width\":700},                        {\"responsive\": true}                    ).then(function(){\n",
              "                            \n",
              "var gd = document.getElementById('4a83af9b-980d-46ae-b169-403bff0147ee');\n",
              "var x = new MutationObserver(function (mutations, observer) {{\n",
              "        var display = window.getComputedStyle(gd).display;\n",
              "        if (!display || display === 'none') {{\n",
              "            console.log([gd, 'removed!']);\n",
              "            Plotly.purge(gd);\n",
              "            observer.disconnect();\n",
              "        }}\n",
              "}});\n",
              "\n",
              "// Listen for the removal of the full notebook cells\n",
              "var notebookContainer = gd.closest('#notebook-container');\n",
              "if (notebookContainer) {{\n",
              "    x.observe(notebookContainer, {childList: true});\n",
              "}}\n",
              "\n",
              "// Listen for the clearing of the current output cell\n",
              "var outputEl = gd.closest('.output');\n",
              "if (outputEl) {{\n",
              "    x.observe(outputEl, {childList: true});\n",
              "}}\n",
              "\n",
              "                        })                };                            </script>        </div>\n",
              "</body>\n",
              "</html>"
            ]
          },
          "metadata": {}
        }
      ]
    },
    {
      "cell_type": "code",
      "source": [
        "plt.figure(figsize=(3,4))\n",
        "ax = sns.countplot(x='is_fraud',data=raw_df,palette=\"pastel\")\n",
        "for i in ax.containers:\n",
        "    ax.bar_label(i,)\n"
      ],
      "metadata": {
        "colab": {
          "base_uri": "https://localhost:8080/",
          "height": 403
        },
        "id": "VTkPGlEhCQhh",
        "outputId": "fcb9e3bf-b591-4085-e5db-a602658d1031"
      },
      "execution_count": 6,
      "outputs": [
        {
          "output_type": "display_data",
          "data": {
            "text/plain": [
              "<Figure size 300x400 with 1 Axes>"
            ],
            "image/png": "[encoded data removed]"
          },
          "metadata": {}
        }
      ]
    },
    {
      "cell_type": "code",
      "source": [
        "print('Genuine:', round(raw_df['is_fraud'].value_counts()[0]/len(raw_df) * 100,2), '% of the dataset')\n",
        "print('Frauds:', round(raw_df['is_fraud'].value_counts()[1]/len(raw_df) * 100,2), '% of the dataset')\n"
      ],
      "metadata": {
        "colab": {
          "base_uri": "https://localhost:8080/"
        },
        "id": "y4wF2t8eCkFy",
        "outputId": "6e28795a-e69c-4f30-de0f-fc688bbe65f2"
      },
      "execution_count": 7,
      "outputs": [
        {
          "output_type": "stream",
          "name": "stdout",
          "text": [
            "Genuine: 99.42 % of the dataset\n",
            "Frauds: 0.58 % of the dataset\n"
          ]
        }
      ]
    },
    {
      "cell_type": "code",
      "source": [],
      "metadata": {
        "id": "qKFr7sz0FOG3"
      },
      "execution_count": 7,
      "outputs": []
    },
    {
      "cell_type": "code",
      "source": [
        "df = raw_df.copy()\n"
      ],
      "metadata": {
        "id": "aHg5L2HrCzNj"
      },
      "execution_count": 8,
      "outputs": []
    },
    {
      "cell_type": "code",
      "source": [
        "df.drop_duplicates()"
      ],
      "metadata": {
        "colab": {
          "base_uri": "https://localhost:8080/",
          "height": 908
        },
        "id": "StLqrY45Cztk",
        "outputId": "de8804b2-b7cd-42d6-9061-551a45697dc1"
      },
      "execution_count": 9,
      "outputs": [
        {
          "output_type": "execute_result",
          "data": {
            "text/plain": [
              "         Unnamed: 0 trans_date_trans_time               cc_num  \\\n",
              "0                 0   2019-01-01 00:00:18     2703186189652095   \n",
              "1                 1   2019-01-01 00:00:44         630423337322   \n",
              "2                 2   2019-01-01 00:00:51       38859492057661   \n",
              "3                 3   2019-01-01 00:01:16     3534093764340240   \n",
              "4                 4   2019-01-01 00:03:06      375534208663984   \n",
              "...             ...                   ...                  ...   \n",
              "1296670     1296670   2020-06-21 12:12:08       30263540414123   \n",
              "1296671     1296671   2020-06-21 12:12:19     6011149206456997   \n",
              "1296672     1296672   2020-06-21 12:12:32     3514865930894695   \n",
              "1296673     1296673   2020-06-21 12:13:36     2720012583106919   \n",
              "1296674     1296674   2020-06-21 12:13:37  4292902571056973207   \n",
              "\n",
              "                                    merchant       category     amt  \\\n",
              "0                 fraud_Rippin, Kub and Mann       misc_net    4.97   \n",
              "1            fraud_Heller, Gutmann and Zieme    grocery_pos  107.23   \n",
              "2                       fraud_Lind-Buckridge  entertainment  220.11   \n",
              "3         fraud_Kutch, Hermiston and Farrell  gas_transport   45.00   \n",
              "4                        fraud_Keeling-Crist       misc_pos   41.96   \n",
              "...                                      ...            ...     ...   \n",
              "1296670                    fraud_Reichel Inc  entertainment   15.56   \n",
              "1296671             fraud_Abernathy and Sons    food_dining   51.70   \n",
              "1296672                 fraud_Stiedemann Ltd    food_dining  105.93   \n",
              "1296673  fraud_Reinger, Weissnat and Strosin    food_dining   74.90   \n",
              "1296674  fraud_Langosh, Wintheiser and Hyatt    food_dining    4.30   \n",
              "\n",
              "               first       last gender                         street  ...  \\\n",
              "0           Jennifer      Banks      F                 561 Perry Cove  ...   \n",
              "1          Stephanie       Gill      F   43039 Riley Greens Suite 393  ...   \n",
              "2             Edward    Sanchez      M       594 White Dale Suite 530  ...   \n",
              "3             Jeremy      White      M    9443 Cynthia Court Apt. 038  ...   \n",
              "4              Tyler     Garcia      M               408 Bradley Rest  ...   \n",
              "...              ...        ...    ...                            ...  ...   \n",
              "1296670         Erik  Patterson      M       162 Jessica Row Apt. 072  ...   \n",
              "1296671      Jeffrey      White      M  8617 Holmes Terrace Suite 651  ...   \n",
              "1296672  Christopher  Castaneda      M     1632 Cohen Drive Suite 639  ...   \n",
              "1296673       Joseph     Murray      M           42933 Ryan Underpass  ...   \n",
              "1296674      Jeffrey      Smith      M           135 Joseph Mountains  ...   \n",
              "\n",
              "             lat      long  city_pop                                job  \\\n",
              "0        36.0788  -81.1781      3495          Psychologist, counselling   \n",
              "1        48.8878 -118.2105       149  Special educational needs teacher   \n",
              "2        42.1808 -112.2620      4154        Nature conservation officer   \n",
              "3        46.2306 -112.1138      1939                    Patent attorney   \n",
              "4        38.4207  -79.4629        99     Dance movement psychotherapist   \n",
              "...          ...       ...       ...                                ...   \n",
              "1296670  37.7175 -112.4777       258                       Geoscientist   \n",
              "1296671  39.2667  -77.5101       100   Production assistant, television   \n",
              "1296672  32.9396 -105.8189       899                    Naval architect   \n",
              "1296673  43.3526 -102.5411      1126              Volunteer coordinator   \n",
              "1296674  45.8433 -113.8748       218           Therapist, horticultural   \n",
              "\n",
              "                dob                         trans_num   unix_time  merch_lat  \\\n",
              "0        1988-03-09  0b242abb623afc578575680df30655b9  1325376018  36.011293   \n",
              "1        1978-06-21  1f76529f8574734946361c461b024d99  1325376044  49.159047   \n",
              "2        1962-01-19  a1a22d70485983eac12b5b88dad1cf95  1325376051  43.150704   \n",
              "3        1967-01-12  6b849c168bdad6f867558c3793159a81  1325376076  47.034331   \n",
              "4        1986-03-28  a41d7549acf90789359a9aa5346dcb46  1325376186  38.674999   \n",
              "...             ...                               ...         ...        ...   \n",
              "1296670  1961-11-24  440b587732da4dc1a6395aba5fb41669  1371816728  36.841266   \n",
              "1296671  1979-12-11  278000d2e0d2277d1de2f890067dcc0a  1371816739  38.906881   \n",
              "1296672  1967-08-30  483f52fe67fabef353d552c1e662974c  1371816752  33.619513   \n",
              "1296673  1980-08-18  d667cdcbadaaed3da3f4020e83591c83  1371816816  42.788940   \n",
              "1296674  1995-08-16  8f7c8e4ab7f25875d753b422917c98c9  1371816817  46.565983   \n",
              "\n",
              "         merch_long  is_fraud  \n",
              "0        -82.048315         0  \n",
              "1       -118.186462         0  \n",
              "2       -112.154481         0  \n",
              "3       -112.561071         0  \n",
              "4        -78.632459         0  \n",
              "...             ...       ...  \n",
              "1296670 -111.690765         0  \n",
              "1296671  -78.246528         0  \n",
              "1296672 -105.130529         0  \n",
              "1296673 -103.241160         0  \n",
              "1296674 -114.186110         0  \n",
              "\n",
              "[1296675 rows x 23 columns]"
            ],
            "text/html": [
              "\n",
              "  <div id=\"df-6e34f752-e050-4c89-b5ed-459c43343ff6\">\n",
              "    <div class=\"colab-df-container\">\n",
              "      <div>\n",
              "<style scoped>\n",
              "    .dataframe tbody tr th:only-of-type {\n",
              "        vertical-align: middle;\n",
              "    }\n",
              "\n",
              "    .dataframe tbody tr th {\n",
              "        vertical-align: top;\n",
              "    }\n",
              "\n",
              "    .dataframe thead th {\n",
              "        text-align: right;\n",
              "    }\n",
              "</style>\n",
              "<table border=\"1\" class=\"dataframe\">\n",
              "  <thead>\n",
              "    <tr style=\"text-align: right;\">\n",
              "      <th></th>\n",
              "      <th>Unnamed: 0</th>\n",
              "      <th>trans_date_trans_time</th>\n",
              "      <th>cc_num</th>\n",
              "      <th>merchant</th>\n",
              "      <th>category</th>\n",
              "      <th>amt</th>\n",
              "      <th>first</th>\n",
              "      <th>last</th>\n",
              "      <th>gender</th>\n",
              "      <th>street</th>\n",
              "      <th>...</th>\n",
              "      <th>lat</th>\n",
              "      <th>long</th>\n",
              "      <th>city_pop</th>\n",
              "      <th>job</th>\n",
              "      <th>dob</th>\n",
              "      <th>trans_num</th>\n",
              "      <th>unix_time</th>\n",
              "      <th>merch_lat</th>\n",
              "      <th>merch_long</th>\n",
              "      <th>is_fraud</th>\n",
              "    </tr>\n",
              "  </thead>\n",
              "  <tbody>\n",
              "    <tr>\n",
              "      <th>0</th>\n",
              "      <td>0</td>\n",
              "      <td>2019-01-01 00:00:18</td>\n",
              "      <td>2703186189652095</td>\n",
              "      <td>fraud_Rippin, Kub and Mann</td>\n",
              "      <td>misc_net</td>\n",
              "      <td>4.97</td>\n",
              "      <td>Jennifer</td>\n",
              "      <td>Banks</td>\n",
              "      <td>F</td>\n",
              "      <td>561 Perry Cove</td>\n",
              "      <td>...</td>\n",
              "      <td>36.0788</td>\n",
              "      <td>-81.1781</td>\n",
              "      <td>3495</td>\n",
              "      <td>Psychologist, counselling</td>\n",
              "      <td>1988-03-09</td>\n",
              "      <td>0b242abb623afc578575680df30655b9</td>\n",
              "      <td>1325376018</td>\n",
              "      <td>36.011293</td>\n",
              "      <td>-82.048315</td>\n",
              "      <td>0</td>\n",
              "    </tr>\n",
              "    <tr>\n",
              "      <th>1</th>\n",
              "      <td>1</td>\n",
              "      <td>2019-01-01 00:00:44</td>\n",
              "      <td>630423337322</td>\n",
              "      <td>fraud_Heller, Gutmann and Zieme</td>\n",
              "      <td>grocery_pos</td>\n",
              "      <td>107.23</td>\n",
              "      <td>Stephanie</td>\n",
              "      <td>Gill</td>\n",
              "      <td>F</td>\n",
              "      <td>43039 Riley Greens Suite 393</td>\n",
              "      <td>...</td>\n",
              "      <td>48.8878</td>\n",
              "      <td>-118.2105</td>\n",
              "      <td>149</td>\n",
              "      <td>Special educational needs teacher</td>\n",
              "      <td>1978-06-21</td>\n",
              "      <td>1f76529f8574734946361c461b024d99</td>\n",
              "      <td>1325376044</td>\n",
              "      <td>49.159047</td>\n",
              "      <td>-118.186462</td>\n",
              "      <td>0</td>\n",
              "    </tr>\n",
              "    <tr>\n",
              "      <th>2</th>\n",
              "      <td>2</td>\n",
              "      <td>2019-01-01 00:00:51</td>\n",
              "      <td>38859492057661</td>\n",
              "      <td>fraud_Lind-Buckridge</td>\n",
              "      <td>entertainment</td>\n",
              "      <td>220.11</td>\n",
              "      <td>Edward</td>\n",
              "      <td>Sanchez</td>\n",
              "      <td>M</td>\n",
              "      <td>594 White Dale Suite 530</td>\n",
              "      <td>...</td>\n",
              "      <td>42.1808</td>\n",
              "      <td>-112.2620</td>\n",
              "      <td>4154</td>\n",
              "      <td>Nature conservation officer</td>\n",
              "      <td>1962-01-19</td>\n",
              "      <td>a1a22d70485983eac12b5b88dad1cf95</td>\n",
              "      <td>1325376051</td>\n",
              "      <td>43.150704</td>\n",
              "      <td>-112.154481</td>\n",
              "      <td>0</td>\n",
              "    </tr>\n",
              "    <tr>\n",
              "      <th>3</th>\n",
              "      <td>3</td>\n",
              "      <td>2019-01-01 00:01:16</td>\n",
              "      <td>3534093764340240</td>\n",
              "      <td>fraud_Kutch, Hermiston and Farrell</td>\n",
              "      <td>gas_transport</td>\n",
              "      <td>45.00</td>\n",
              "      <td>Jeremy</td>\n",
              "      <td>White</td>\n",
              "      <td>M</td>\n",
              "      <td>9443 Cynthia Court Apt. 038</td>\n",
              "      <td>...</td>\n",
              "      <td>46.2306</td>\n",
              "      <td>-112.1138</td>\n",
              "      <td>1939</td>\n",
              "      <td>Patent attorney</td>\n",
              "      <td>1967-01-12</td>\n",
              "      <td>6b849c168bdad6f867558c3793159a81</td>\n",
              "      <td>1325376076</td>\n",
              "      <td>47.034331</td>\n",
              "      <td>-112.561071</td>\n",
              "      <td>0</td>\n",
              "    </tr>\n",
              "    <tr>\n",
              "      <th>4</th>\n",
              "      <td>4</td>\n",
              "      <td>2019-01-01 00:03:06</td>\n",
              "      <td>375534208663984</td>\n",
              "      <td>fraud_Keeling-Crist</td>\n",
              "      <td>misc_pos</td>\n",
              "      <td>41.96</td>\n",
              "      <td>Tyler</td>\n",
              "      <td>Garcia</td>\n",
              "      <td>M</td>\n",
              "      <td>408 Bradley Rest</td>\n",
              "      <td>...</td>\n",
              "      <td>38.4207</td>\n",
              "      <td>-79.4629</td>\n",
              "      <td>99</td>\n",
              "      <td>Dance movement psychotherapist</td>\n",
              "      <td>1986-03-28</td>\n",
              "      <td>a41d7549acf90789359a9aa5346dcb46</td>\n",
              "      <td>1325376186</td>\n",
              "      <td>38.674999</td>\n",
              "      <td>-78.632459</td>\n",
              "      <td>0</td>\n",
              "    </tr>\n",
              "    <tr>\n",
              "      <th>...</th>\n",
              "      <td>...</td>\n",
              "      <td>...</td>\n",
              "      <td>...</td>\n",
              "      <td>...</td>\n",
              "      <td>...</td>\n",
              "      <td>...</td>\n",
              "      <td>...</td>\n",
              "      <td>...</td>\n",
              "      <td>...</td>\n",
              "      <td>...</td>\n",
              "      <td>...</td>\n",
              "      <td>...</td>\n",
              "      <td>...</td>\n",
              "      <td>...</td>\n",
              "      <td>...</td>\n",
              "      <td>...</td>\n",
              "      <td>...</td>\n",
              "      <td>...</td>\n",
              "      <td>...</td>\n",
              "      <td>...</td>\n",
              "      <td>...</td>\n",
              "    </tr>\n",
              "    <tr>\n",
              "      <th>1296670</th>\n",
              "      <td>1296670</td>\n",
              "      <td>2020-06-21 12:12:08</td>\n",
              "      <td>30263540414123</td>\n",
              "      <td>fraud_Reichel Inc</td>\n",
              "      <td>entertainment</td>\n",
              "      <td>15.56</td>\n",
              "      <td>Erik</td>\n",
              "      <td>Patterson</td>\n",
              "      <td>M</td>\n",
              "      <td>162 Jessica Row Apt. 072</td>\n",
              "      <td>...</td>\n",
              "      <td>37.7175</td>\n",
              "      <td>-112.4777</td>\n",
              "      <td>258</td>\n",
              "      <td>Geoscientist</td>\n",
              "      <td>1961-11-24</td>\n",
              "      <td>440b587732da4dc1a6395aba5fb41669</td>\n",
              "      <td>1371816728</td>\n",
              "      <td>36.841266</td>\n",
              "      <td>-111.690765</td>\n",
              "      <td>0</td>\n",
              "    </tr>\n",
              "    <tr>\n",
              "      <th>1296671</th>\n",
              "      <td>1296671</td>\n",
              "      <td>2020-06-21 12:12:19</td>\n",
              "      <td>6011149206456997</td>\n",
              "      <td>fraud_Abernathy and Sons</td>\n",
              "      <td>food_dining</td>\n",
              "      <td>51.70</td>\n",
              "      <td>Jeffrey</td>\n",
              "      <td>White</td>\n",
              "      <td>M</td>\n",
              "      <td>8617 Holmes Terrace Suite 651</td>\n",
              "      <td>...</td>\n",
              "      <td>39.2667</td>\n",
              "      <td>-77.5101</td>\n",
              "      <td>100</td>\n",
              "      <td>Production assistant, television</td>\n",
              "      <td>1979-12-11</td>\n",
              "      <td>278000d2e0d2277d1de2f890067dcc0a</td>\n",
              "      <td>1371816739</td>\n",
              "      <td>38.906881</td>\n",
              "      <td>-78.246528</td>\n",
              "      <td>0</td>\n",
              "    </tr>\n",
              "    <tr>\n",
              "      <th>1296672</th>\n",
              "      <td>1296672</td>\n",
              "      <td>2020-06-21 12:12:32</td>\n",
              "      <td>3514865930894695</td>\n",
              "      <td>fraud_Stiedemann Ltd</td>\n",
              "      <td>food_dining</td>\n",
              "      <td>105.93</td>\n",
              "      <td>Christopher</td>\n",
              "      <td>Castaneda</td>\n",
              "      <td>M</td>\n",
              "      <td>1632 Cohen Drive Suite 639</td>\n",
              "      <td>...</td>\n",
              "      <td>32.9396</td>\n",
              "      <td>-105.8189</td>\n",
              "      <td>899</td>\n",
              "      <td>Naval architect</td>\n",
              "      <td>1967-08-30</td>\n",
              "      <td>483f52fe67fabef353d552c1e662974c</td>\n",
              "      <td>1371816752</td>\n",
              "      <td>33.619513</td>\n",
              "      <td>-105.130529</td>\n",
              "      <td>0</td>\n",
              "    </tr>\n",
              "    <tr>\n",
              "      <th>1296673</th>\n",
              "      <td>1296673</td>\n",
              "      <td>2020-06-21 12:13:36</td>\n",
              "      <td>2720012583106919</td>\n",
              "      <td>fraud_Reinger, Weissnat and Strosin</td>\n",
              "      <td>food_dining</td>\n",
              "      <td>74.90</td>\n",
              "      <td>Joseph</td>\n",
              "      <td>Murray</td>\n",
              "      <td>M</td>\n",
              "      <td>42933 Ryan Underpass</td>\n",
              "      <td>...</td>\n",
              "      <td>43.3526</td>\n",
              "      <td>-102.5411</td>\n",
              "      <td>1126</td>\n",
              "      <td>Volunteer coordinator</td>\n",
              "      <td>1980-08-18</td>\n",
              "      <td>d667cdcbadaaed3da3f4020e83591c83</td>\n",
              "      <td>1371816816</td>\n",
              "      <td>42.788940</td>\n",
              "      <td>-103.241160</td>\n",
              "      <td>0</td>\n",
              "    </tr>\n",
              "    <tr>\n",
              "      <th>1296674</th>\n",
              "      <td>1296674</td>\n",
              "      <td>2020-06-21 12:13:37</td>\n",
              "      <td>4292902571056973207</td>\n",
              "      <td>fraud_Langosh, Wintheiser and Hyatt</td>\n",
              "      <td>food_dining</td>\n",
              "      <td>4.30</td>\n",
              "      <td>Jeffrey</td>\n",
              "      <td>Smith</td>\n",
              "      <td>M</td>\n",
              "      <td>135 Joseph Mountains</td>\n",
              "      <td>...</td>\n",
              "      <td>45.8433</td>\n",
              "      <td>-113.8748</td>\n",
              "      <td>218</td>\n",
              "      <td>Therapist, horticultural</td>\n",
              "      <td>1995-08-16</td>\n",
              "      <td>8f7c8e4ab7f25875d753b422917c98c9</td>\n",
              "      <td>1371816817</td>\n",
              "      <td>46.565983</td>\n",
              "      <td>-114.186110</td>\n",
              "      <td>0</td>\n",
              "    </tr>\n",
              "  </tbody>\n",
              "</table>\n",
              "<p>1296675 rows × 23 columns</p>\n",
              "</div>\n",
              "      <button class=\"colab-df-convert\" onclick=\"convertToInteractive('df-6e34f752-e050-4c89-b5ed-459c43343ff6')\"\n",
              "              title=\"Convert this dataframe to an interactive table.\"\n",
              "              style=\"display:none;\">\n",
              "        \n",
              "  <svg xmlns=\"http://www.w3.org/2000/svg\" height=\"24px\"viewBox=\"0 0 24 24\"\n",
              "       width=\"24px\">\n",
              "    <path d=\"M0 0h24v24H0V0z\" fill=\"none\"/>\n",
              "    <path d=\"M18.56 5.44l.94 2.06.94-2.06 2.06-.94-2.06-.94-.94-2.06-.94 2.06-2.06.94zm-11 1L8.5 8.5l.94-2.06 2.06-.94-2.06-.94L8.5 2.5l-.94 2.06-2.06.94zm10 10l.94 2.06.94-2.06 2.06-.94-2.06-.94-.94-2.06-.94 2.06-2.06.94z\"/><path d=\"M17.41 7.96l-1.37-1.37c-.4-.4-.92-.59-1.43-.59-.52 0-1.04.2-1.43.59L10.3 9.45l-7.72 7.72c-.78.78-.78 2.05 0 2.83L4 21.41c.39.39.9.59 1.41.59.51 0 1.02-.2 1.41-.59l7.78-7.78 2.81-2.81c.8-.78.8-2.07 0-2.86zM5.41 20L4 18.59l7.72-7.72 1.47 1.35L5.41 20z\"/>\n",
              "  </svg>\n",
              "      </button>\n",
              "      \n",
              "  <style>\n",
              "    .colab-df-container {\n",
              "      display:flex;\n",
              "      flex-wrap:wrap;\n",
              "      gap: 12px;\n",
              "    }\n",
              "\n",
              "    .colab-df-convert {\n",
              "      background-color: #E8F0FE;\n",
              "      border: none;\n",
              "      border-radius: 50%;\n",
              "      cursor: pointer;\n",
              "      display: none;\n",
              "      fill: #1967D2;\n",
              "      height: 32px;\n",
              "      padding: 0 0 0 0;\n",
              "      width: 32px;\n",
              "    }\n",
              "\n",
              "    .colab-df-convert:hover {\n",
              "      background-color: #E2EBFA;\n",
              "      box-shadow: 0px 1px 2px rgba(60, 64, 67, 0.3), 0px 1px 3px 1px rgba(60, 64, 67, 0.15);\n",
              "      fill: #174EA6;\n",
              "    }\n",
              "\n",
              "    [theme=dark] .colab-df-convert {\n",
              "      background-color: #3B4455;\n",
              "      fill: #D2E3FC;\n",
              "    }\n",
              "\n",
              "    [theme=dark] .colab-df-convert:hover {\n",
              "      background-color: #434B5C;\n",
              "      box-shadow: 0px 1px 3px 1px rgba(0, 0, 0, 0.15);\n",
              "      filter: drop-shadow(0px 1px 2px rgba(0, 0, 0, 0.3));\n",
              "      fill: #FFFFFF;\n",
              "    }\n",
              "  </style>\n",
              "\n",
              "      <script>\n",
              "        const buttonEl =\n",
              "          document.querySelector('#df-6e34f752-e050-4c89-b5ed-459c43343ff6 button.colab-df-convert');\n",
              "        buttonEl.style.display =\n",
              "          google.colab.kernel.accessAllowed ? 'block' : 'none';\n",
              "\n",
              "        async function convertToInteractive(key) {\n",
              "          const element = document.querySelector('#df-6e34f752-e050-4c89-b5ed-459c43343ff6');\n",
              "          const dataTable =\n",
              "            await google.colab.kernel.invokeFunction('convertToInteractive',\n",
              "                                                     [key], {});\n",
              "          if (!dataTable) return;\n",
              "\n",
              "          const docLinkHtml = 'Like what you see? Visit the ' +\n",
              "            '<a target=\"_blank\" href=https://colab.research.google.com/notebooks/data_table.ipynb>data table notebook</a>'\n",
              "            + ' to learn more about interactive tables.';\n",
              "          element.innerHTML = '';\n",
              "          dataTable['output_type'] = 'display_data';\n",
              "          await google.colab.output.renderOutput(dataTable, element);\n",
              "          const docLink = document.createElement('div');\n",
              "          docLink.innerHTML = docLinkHtml;\n",
              "          element.appendChild(docLink);\n",
              "        }\n",
              "      </script>\n",
              "    </div>\n",
              "  </div>\n",
              "  "
            ]
          },
          "metadata": {},
          "execution_count": 9
        }
      ]
    },
    {
      "cell_type": "code",
      "source": [
        "df = raw_df.copy()\n",
        "\n",
        "df.drop_duplicates(inplace=True)\n",
        "print(\"Duplicated values dropped succesfully\")\n",
        "print(\"*\" * 100)\n"
      ],
      "metadata": {
        "colab": {
          "base_uri": "https://localhost:8080/"
        },
        "id": "Xx8Z1T9LCpAv",
        "outputId": "18d8e3b9-eaff-4019-be34-3976aa61a2f0"
      },
      "execution_count": 10,
      "outputs": [
        {
          "output_type": "stream",
          "name": "stdout",
          "text": [
            "Duplicated values dropped succesfully\n",
            "****************************************************************************************************\n"
          ]
        }
      ]
    },
    {
      "cell_type": "code",
      "source": [
        "df.columns"
      ],
      "metadata": {
        "colab": {
          "base_uri": "https://localhost:8080/"
        },
        "id": "92xWMCN8D2lc",
        "outputId": "3d44a96f-7652-4e15-ff0f-7c50383ca7bb"
      },
      "execution_count": 11,
      "outputs": [
        {
          "output_type": "execute_result",
          "data": {
            "text/plain": [
              "Index(['Unnamed: 0', 'trans_date_trans_time', 'cc_num', 'merchant', 'category',\n",
              "       'amt', 'first', 'last', 'gender', 'street', 'city', 'state', 'zip',\n",
              "       'lat', 'long', 'city_pop', 'job', 'dob', 'trans_num', 'unix_time',\n",
              "       'merch_lat', 'merch_long', 'is_fraud'],\n",
              "      dtype='object')"
            ]
          },
          "metadata": {},
          "execution_count": 11
        }
      ]
    },
    {
      "cell_type": "code",
      "source": [],
      "metadata": {
        "id": "--Yick-71CV2"
      },
      "execution_count": 11,
      "outputs": []
    },
    {
      "cell_type": "code",
      "source": [
        "from datetime import datetime\n",
        "\n",
        "cols = df.columns\n",
        "\n",
        "'''Step-1: Segragating data-time, categorical, numerical, and output features and removing  \n",
        "Nominal, meaning less, complicated ones '''\n",
        "date_features = [cols[1], cols[19]]\n",
        "cat_features = [cols[2], cols[4], cols[8], cols[10], cols[11], cols[12], cols[16]]\n",
        "num_features = [cols[5], cols[13], cols[14], cols[15], cols[17], cols[20], cols[21]  ]\n",
        "output_features = [cols[22]]\n",
        "\n",
        "# Concatenate the feature lists into a single list\n",
        "all_features = date_features + cat_features + num_features + output_features\n",
        "df =  df[all_features]\n",
        "print(all_features)\n",
        "\n",
        "train_dt =  df[all_features]\n",
        "\n",
        "train_dt.columns\n",
        "\n",
        "(train_dt).isna().sum()\n",
        "\n",
        "train_dt.dtypes\n",
        "\n",
        "from math import sin, cos, sqrt, atan2, radians\n"
      ],
      "metadata": {
        "colab": {
          "base_uri": "https://localhost:8080/"
        },
        "id": "5SCuuvOT3v6r",
        "outputId": "e64aa892-1262-420b-c6d8-0912a4fdd839"
      },
      "execution_count": 12,
      "outputs": [
        {
          "output_type": "stream",
          "name": "stdout",
          "text": [
            "['trans_date_trans_time', 'unix_time', 'cc_num', 'category', 'gender', 'city', 'state', 'zip', 'job', 'amt', 'lat', 'long', 'city_pop', 'dob', 'merch_lat', 'merch_long', 'is_fraud']\n"
          ]
        }
      ]
    },
    {
      "cell_type": "code",
      "source": [
        "def haversine(lat1, lon1, lat2, lon2):\n",
        "    R = 3958.8  # Earth radius in miles\n",
        "\n",
        "    # Convert latitude and longitude from degrees to radians\n",
        "    lat1, lon1, lat2, lon2 = map(radians, [lat1, lon1, lat2, lon2])\n",
        "\n",
        "    # Calculate the distance using the Haversine formula\n",
        "    dlat = lat2 - lat1\n",
        "    dlon = lon2 - lon1\n",
        "    a = sin(dlat / 2)**2 + cos(lat1) * cos(lat2) * sin(dlon / 2)**2\n",
        "    c = 2 * atan2(sqrt(a), sqrt(1 - a))\n",
        "    distance = R * c\n",
        "\n",
        "    return distance\n",
        "\n",
        "def new_features(data):\n",
        "    df = data.copy()\n",
        "    df['trans_date_trans_time'] = pd.to_datetime(df['trans_date_trans_time'])\n",
        "    df['trans_date'] = df['trans_date_trans_time'].dt.date\n",
        "    df['day_of_week'] = df['trans_date_trans_time'].dt.day_name()\n",
        "    df['trans_hour'] = df['trans_date_trans_time'].dt.hour\n",
        "    df['avg_category_amt'] = df.groupby('category')['amt'].transform('mean')\n",
        "    df['amt_above_avg_category_amt'] = (df['amt'] > df['avg_category_amt']).astype(int)\n",
        "    df = df.sort_values(['cc_num', 'trans_date_trans_time'], ascending=[True, True])\n",
        "    df['time_since_last_trans'] = df.groupby('cc_num')['trans_date_trans_time'].diff().dt.total_seconds()\n",
        "    df['trans_freq'] = df.groupby('cc_num')['trans_date_trans_time'].transform('count')\n",
        "    df['time_since_last_trans'] = df.groupby('cc_num')['trans_date_trans_time'].transform(lambda x: x.max() - x)\n",
        "    df = df.sort_index()\n",
        "    df['distance'] = df.apply(lambda row: haversine(row['lat'], row['long'], row['merch_lat'], row['merch_long']), axis=1)\n",
        "    df['time_since_last_trans'] = df['time_since_last_trans'].dt.total_seconds()\n",
        "    df['days_since_last_trans'], df['hours_since_last_trans'] = divmod(df['time_since_last_trans'], 86400)\n",
        "    df['hours_since_last_trans'] /= 3600\n",
        "    df['days_since_last_trans'] = df['days_since_last_trans'].astype(int)\n",
        "    df['hours_since_last_trans'] = df['hours_since_last_trans'].astype(int)\n",
        "    train_dt['dob'] = train_dt['dob'].apply(lambda x: datetime.strptime(x, '%Y-%m-%d'))\n",
        "    date  = pd.to_datetime(df['trans_date'])\n",
        "    df['age']    = ( date- train_dt['dob']).dt.days.astype(int)\n",
        "    return df\n",
        "\n",
        "\n",
        "engineered_data_train = pd.DataFrame()\n",
        "engineered_data_train = new_features(train_dt)\n",
        "\n",
        "engineered_data_train.head(10)\n",
        "\n",
        "engineered_data_train.columns\n",
        "\n",
        "# Drop irrelevant columns\n",
        "engineered_data_train = engineered_data_train.drop(['trans_date_trans_time', 'unix_time', 'cc_num','city', 'zip', 'lat', 'long', 'merch_lat', 'merch_long','avg_category_amt','dob'], axis=1)\n",
        "\n",
        "\n",
        "# define a function to encode time difference into categories\n",
        "def encode_time_diff(time_diff):\n",
        "    if time_diff <= pd.Timedelta(weeks=8):\n",
        "        return 'recent'\n",
        "    elif time_diff <= pd.Timedelta(weeks=20):\n",
        "        return 'moderate'\n",
        "    else:\n",
        "        return 'long ago'\n",
        "\n",
        "def encode_features(data):\n",
        "    df = data.copy()\n",
        "    region_dict = {'AL': 'South', 'AK': 'West', 'AZ': 'West', 'AR': 'South',\n",
        "                     'CA': 'West', 'CO': 'West', 'CT': 'Northeast', 'DE': 'South',\n",
        "                     'FL': 'South', 'GA': 'South', 'HI': 'Pacific','DC':'Northeast', 'ID': 'West',\n",
        "                     'IL': 'Midwest', 'IN': 'Midwest', 'IA': 'Midwest', 'KS': 'Midwest',\n",
        "                     'KY': 'South', 'LA': 'South', 'ME': 'Northeast', 'MD': 'South',\n",
        "                     'MA': 'Northeast', 'MI': 'Midwest', 'MN': 'Midwest', 'MS': 'South',\n",
        "                     'MO': 'Midwest', 'MT': 'West', 'NE': 'Midwest', 'NV': 'West',\n",
        "                     'NH': 'Northeast', 'NJ': 'Northeast', 'NM': 'West', 'NY': 'Northeast',\n",
        "                     'NC': 'South', 'ND': 'Midwest', 'OH': 'Midwest', 'OK': 'South',\n",
        "                     'OR': 'West', 'PA': 'Northeast', 'RI': 'Northeast', 'SC': 'South',\n",
        "                     'SD': 'Midwest', 'TN': 'South', 'TX': 'South', 'UT': 'West',\n",
        "                     'VT': 'Northeast', 'VA': 'South', 'WA': 'West', 'WV': 'South',\n",
        "                     'WI': 'Midwest', 'WY': 'West'}\n",
        "    \n",
        "    week_dict = {'Monday': 'weekday', \n",
        "                 'Tuesday': 'weekday', \n",
        "                 'Wednesday': 'weekday', \n",
        "                 'Thursday': 'weekday', \n",
        "                 'Friday': 'weekday',\n",
        "               'Saturday': 'weekend',\n",
        "                'Sunday': 'weekend'}\n",
        "    df['day_of_week'] = df['day_of_week'].map(week_dict)\n",
        "    \n",
        "    # Use the dictionary to map the states to their regions\n",
        "    df['region'] = df['state'].map({state: region for region, states in region_dict.items() for state in states})\n",
        "\n",
        "    df['region'] = df['state'].map(region_dict)\n",
        "    df['gender'] = df['gender'].map({'F': 0, 'M': 1})\n",
        "    df['category'] = pd.factorize(df['category'])[0]\n",
        "    df['trans_date'] = pd.to_datetime(df['trans_date'])\n",
        "    RN_date = datetime.now()\n",
        "    df['time_diff'] = (RN_date - df['trans_date'])\n",
        "    df['trans_date_encoded'] = df['time_diff'].apply(encode_time_diff)\n",
        "    # create bins for the different times of day\n",
        "    bins = [0, 12, 18, 24]\n",
        "    labels = ['morning', 'afternoon', 'evening']\n",
        "    # use the cut() function to encode the 'trans_time_of_day' column\n",
        "    df['trans_hour'] = pd.cut(pd.to_datetime(df['trans_hour']).dt.hour, bins=bins, labels=labels, include_lowest=True)\n",
        "    return df\n",
        "\n",
        "encoded_engineered_data_train = pd.DataFrame()\n",
        "encoded_engineered_data_train = encode_features(engineered_data_train)\n",
        "# drop: state, job, time_diff, trans_date\n",
        "#encoded_engineered_data = encoded_engineered_data.drop(['state', 'job', 'time_diff','trans_date'],axis=1)\n",
        "\n",
        "encoded_engineered_data_train = encoded_engineered_data_train.drop(['state', 'job', 'time_diff','trans_date'],axis=1)\n",
        "\n",
        "(encoded_engineered_data_train).isna().sum()\n",
        "\n",
        "encoded_engineered_data_train[\"region\"].unique()\n",
        "\n",
        "encoded_engineered_data_train.head(10)\n",
        "\n",
        "encoded_engineered_data_train.dtypes\n",
        "\n",
        "\n",
        "dummy = encoded_engineered_data_train.copy()\n",
        "\n",
        "from sklearn.preprocessing import LabelEncoder\n",
        "\n",
        "le = LabelEncoder()\n",
        "\n",
        "dummy['day_of_week'] = le.fit_transform(dummy['day_of_week'])\n",
        "dummy['trans_hour'] = le.fit_transform(dummy['trans_hour'])\n",
        "dummy['region'] = le.fit_transform(dummy['region'])\n",
        "dummy['time_since_last_trans'] = le.fit_transform(dummy['time_since_last_trans'])\n",
        "dummy['days_since_last_trans'] = le.fit_transform(dummy['days_since_last_trans'])\n",
        "dummy['hours_since_last_trans'] = le.fit_transform(dummy['hours_since_last_trans'])\n",
        "dummy['trans_date_encoded'] = le.fit_transform(dummy['trans_date_encoded'])"
      ],
      "metadata": {
        "id": "LT8VwOHa1C9H"
      },
      "execution_count": 13,
      "outputs": []
    },
    {
      "cell_type": "code",
      "source": [
        "dummy.head()"
      ],
      "metadata": {
        "colab": {
          "base_uri": "https://localhost:8080/",
          "height": 268
        },
        "id": "VbAOaq481BlQ",
        "outputId": "86344066-39f9-4cf4-df73-1efd52260050"
      },
      "execution_count": 14,
      "outputs": [
        {
          "output_type": "execute_result",
          "data": {
            "text/plain": [
              "   category  gender     amt  city_pop  is_fraud  day_of_week  trans_hour  \\\n",
              "0         0       0    4.97      3495         0            0           0   \n",
              "1         1       0  107.23       149         0            0           0   \n",
              "2         2       1  220.11      4154         0            0           0   \n",
              "3         3       1   45.00      1939         0            0           0   \n",
              "4         4       1   41.96        99         0            0           0   \n",
              "\n",
              "   amt_above_avg_category_amt  time_since_last_trans  trans_freq   distance  \\\n",
              "0                           0                1274980        2028  48.838809   \n",
              "1                           0                1275065        3030  18.773185   \n",
              "2                           1                1273151         503  67.236892   \n",
              "3                           0                1271597         493  59.449252   \n",
              "4                           0                1274854        2017  48.192064   \n",
              "\n",
              "   days_since_last_trans  hours_since_last_trans    age  region  \\\n",
              "0                    537                       6  11255       3   \n",
              "1                    537                       7  14804       4   \n",
              "2                    536                       7  20801       4   \n",
              "3                    535                       1  18982       4   \n",
              "4                    537                       3  11967       3   \n",
              "\n",
              "   trans_date_encoded  \n",
              "0                   0  \n",
              "1                   0  \n",
              "2                   0  \n",
              "3                   0  \n",
              "4                   0  "
            ],
            "text/html": [
              "\n",
              "  <div id=\"df-1b258b05-d749-4d74-be15-53feb84d2fdf\">\n",
              "    <div class=\"colab-df-container\">\n",
              "      <div>\n",
              "<style scoped>\n",
              "    .dataframe tbody tr th:only-of-type {\n",
              "        vertical-align: middle;\n",
              "    }\n",
              "\n",
              "    .dataframe tbody tr th {\n",
              "        vertical-align: top;\n",
              "    }\n",
              "\n",
              "    .dataframe thead th {\n",
              "        text-align: right;\n",
              "    }\n",
              "</style>\n",
              "<table border=\"1\" class=\"dataframe\">\n",
              "  <thead>\n",
              "    <tr style=\"text-align: right;\">\n",
              "      <th></th>\n",
              "      <th>category</th>\n",
              "      <th>gender</th>\n",
              "      <th>amt</th>\n",
              "      <th>city_pop</th>\n",
              "      <th>is_fraud</th>\n",
              "      <th>day_of_week</th>\n",
              "      <th>trans_hour</th>\n",
              "      <th>amt_above_avg_category_amt</th>\n",
              "      <th>time_since_last_trans</th>\n",
              "      <th>trans_freq</th>\n",
              "      <th>distance</th>\n",
              "      <th>days_since_last_trans</th>\n",
              "      <th>hours_since_last_trans</th>\n",
              "      <th>age</th>\n",
              "      <th>region</th>\n",
              "      <th>trans_date_encoded</th>\n",
              "    </tr>\n",
              "  </thead>\n",
              "  <tbody>\n",
              "    <tr>\n",
              "      <th>0</th>\n",
              "      <td>0</td>\n",
              "      <td>0</td>\n",
              "      <td>4.97</td>\n",
              "      <td>3495</td>\n",
              "      <td>0</td>\n",
              "      <td>0</td>\n",
              "      <td>0</td>\n",
              "      <td>0</td>\n",
              "      <td>1274980</td>\n",
              "      <td>2028</td>\n",
              "      <td>48.838809</td>\n",
              "      <td>537</td>\n",
              "      <td>6</td>\n",
              "      <td>11255</td>\n",
              "      <td>3</td>\n",
              "      <td>0</td>\n",
              "    </tr>\n",
              "    <tr>\n",
              "      <th>1</th>\n",
              "      <td>1</td>\n",
              "      <td>0</td>\n",
              "      <td>107.23</td>\n",
              "      <td>149</td>\n",
              "      <td>0</td>\n",
              "      <td>0</td>\n",
              "      <td>0</td>\n",
              "      <td>0</td>\n",
              "      <td>1275065</td>\n",
              "      <td>3030</td>\n",
              "      <td>18.773185</td>\n",
              "      <td>537</td>\n",
              "      <td>7</td>\n",
              "      <td>14804</td>\n",
              "      <td>4</td>\n",
              "      <td>0</td>\n",
              "    </tr>\n",
              "    <tr>\n",
              "      <th>2</th>\n",
              "      <td>2</td>\n",
              "      <td>1</td>\n",
              "      <td>220.11</td>\n",
              "      <td>4154</td>\n",
              "      <td>0</td>\n",
              "      <td>0</td>\n",
              "      <td>0</td>\n",
              "      <td>1</td>\n",
              "      <td>1273151</td>\n",
              "      <td>503</td>\n",
              "      <td>67.236892</td>\n",
              "      <td>536</td>\n",
              "      <td>7</td>\n",
              "      <td>20801</td>\n",
              "      <td>4</td>\n",
              "      <td>0</td>\n",
              "    </tr>\n",
              "    <tr>\n",
              "      <th>3</th>\n",
              "      <td>3</td>\n",
              "      <td>1</td>\n",
              "      <td>45.00</td>\n",
              "      <td>1939</td>\n",
              "      <td>0</td>\n",
              "      <td>0</td>\n",
              "      <td>0</td>\n",
              "      <td>0</td>\n",
              "      <td>1271597</td>\n",
              "      <td>493</td>\n",
              "      <td>59.449252</td>\n",
              "      <td>535</td>\n",
              "      <td>1</td>\n",
              "      <td>18982</td>\n",
              "      <td>4</td>\n",
              "      <td>0</td>\n",
              "    </tr>\n",
              "    <tr>\n",
              "      <th>4</th>\n",
              "      <td>4</td>\n",
              "      <td>1</td>\n",
              "      <td>41.96</td>\n",
              "      <td>99</td>\n",
              "      <td>0</td>\n",
              "      <td>0</td>\n",
              "      <td>0</td>\n",
              "      <td>0</td>\n",
              "      <td>1274854</td>\n",
              "      <td>2017</td>\n",
              "      <td>48.192064</td>\n",
              "      <td>537</td>\n",
              "      <td>3</td>\n",
              "      <td>11967</td>\n",
              "      <td>3</td>\n",
              "      <td>0</td>\n",
              "    </tr>\n",
              "  </tbody>\n",
              "</table>\n",
              "</div>\n",
              "      <button class=\"colab-df-convert\" onclick=\"convertToInteractive('df-1b258b05-d749-4d74-be15-53feb84d2fdf')\"\n",
              "              title=\"Convert this dataframe to an interactive table.\"\n",
              "              style=\"display:none;\">\n",
              "        \n",
              "  <svg xmlns=\"http://www.w3.org/2000/svg\" height=\"24px\"viewBox=\"0 0 24 24\"\n",
              "       width=\"24px\">\n",
              "    <path d=\"M0 0h24v24H0V0z\" fill=\"none\"/>\n",
              "    <path d=\"M18.56 5.44l.94 2.06.94-2.06 2.06-.94-2.06-.94-.94-2.06-.94 2.06-2.06.94zm-11 1L8.5 8.5l.94-2.06 2.06-.94-2.06-.94L8.5 2.5l-.94 2.06-2.06.94zm10 10l.94 2.06.94-2.06 2.06-.94-2.06-.94-.94-2.06-.94 2.06-2.06.94z\"/><path d=\"M17.41 7.96l-1.37-1.37c-.4-.4-.92-.59-1.43-.59-.52 0-1.04.2-1.43.59L10.3 9.45l-7.72 7.72c-.78.78-.78 2.05 0 2.83L4 21.41c.39.39.9.59 1.41.59.51 0 1.02-.2 1.41-.59l7.78-7.78 2.81-2.81c.8-.78.8-2.07 0-2.86zM5.41 20L4 18.59l7.72-7.72 1.47 1.35L5.41 20z\"/>\n",
              "  </svg>\n",
              "      </button>\n",
              "      \n",
              "  <style>\n",
              "    .colab-df-container {\n",
              "      display:flex;\n",
              "      flex-wrap:wrap;\n",
              "      gap: 12px;\n",
              "    }\n",
              "\n",
              "    .colab-df-convert {\n",
              "      background-color: #E8F0FE;\n",
              "      border: none;\n",
              "      border-radius: 50%;\n",
              "      cursor: pointer;\n",
              "      display: none;\n",
              "      fill: #1967D2;\n",
              "      height: 32px;\n",
              "      padding: 0 0 0 0;\n",
              "      width: 32px;\n",
              "    }\n",
              "\n",
              "    .colab-df-convert:hover {\n",
              "      background-color: #E2EBFA;\n",
              "      box-shadow: 0px 1px 2px rgba(60, 64, 67, 0.3), 0px 1px 3px 1px rgba(60, 64, 67, 0.15);\n",
              "      fill: #174EA6;\n",
              "    }\n",
              "\n",
              "    [theme=dark] .colab-df-convert {\n",
              "      background-color: #3B4455;\n",
              "      fill: #D2E3FC;\n",
              "    }\n",
              "\n",
              "    [theme=dark] .colab-df-convert:hover {\n",
              "      background-color: #434B5C;\n",
              "      box-shadow: 0px 1px 3px 1px rgba(0, 0, 0, 0.15);\n",
              "      filter: drop-shadow(0px 1px 2px rgba(0, 0, 0, 0.3));\n",
              "      fill: #FFFFFF;\n",
              "    }\n",
              "  </style>\n",
              "\n",
              "      <script>\n",
              "        const buttonEl =\n",
              "          document.querySelector('#df-1b258b05-d749-4d74-be15-53feb84d2fdf button.colab-df-convert');\n",
              "        buttonEl.style.display =\n",
              "          google.colab.kernel.accessAllowed ? 'block' : 'none';\n",
              "\n",
              "        async function convertToInteractive(key) {\n",
              "          const element = document.querySelector('#df-1b258b05-d749-4d74-be15-53feb84d2fdf');\n",
              "          const dataTable =\n",
              "            await google.colab.kernel.invokeFunction('convertToInteractive',\n",
              "                                                     [key], {});\n",
              "          if (!dataTable) return;\n",
              "\n",
              "          const docLinkHtml = 'Like what you see? Visit the ' +\n",
              "            '<a target=\"_blank\" href=https://colab.research.google.com/notebooks/data_table.ipynb>data table notebook</a>'\n",
              "            + ' to learn more about interactive tables.';\n",
              "          element.innerHTML = '';\n",
              "          dataTable['output_type'] = 'display_data';\n",
              "          await google.colab.output.renderOutput(dataTable, element);\n",
              "          const docLink = document.createElement('div');\n",
              "          docLink.innerHTML = docLinkHtml;\n",
              "          element.appendChild(docLink);\n",
              "        }\n",
              "      </script>\n",
              "    </div>\n",
              "  </div>\n",
              "  "
            ]
          },
          "metadata": {},
          "execution_count": 14
        }
      ]
    },
    {
      "cell_type": "code",
      "source": [
        "X = dummy.drop('is_fraud', axis=1)\n",
        "y = dummy['is_fraud']"
      ],
      "metadata": {
        "id": "2C6xDO-e3NhN"
      },
      "execution_count": 15,
      "outputs": []
    },
    {
      "cell_type": "code",
      "source": [
        "from sklearn.model_selection import train_test_split\n",
        "X_train, X_test, y_train, y_test = train_test_split(X, y, stratify=y, test_size = 0.3, random_state = 42)"
      ],
      "metadata": {
        "id": "M48Zulqd4KfY"
      },
      "execution_count": 16,
      "outputs": []
    },
    {
      "cell_type": "code",
      "source": [
        "from sklearn.preprocessing import StandardScaler\n",
        "\n",
        "# Creating function for scaling\n",
        "def Standard_Scaler (df, col_names):\n",
        "    features = df[col_names]\n",
        "    scaler = StandardScaler().fit(features.values)\n",
        "    features = scaler.transform(features.values)\n",
        "    df[col_names] = features\n",
        "    \n",
        "    return df\n",
        "X_train = Standard_Scaler (X_train, X_train.columns)\n",
        "X_test = Standard_Scaler (X_test, X_train.columns)"
      ],
      "metadata": {
        "id": "jVVsyAPb4Zp7"
      },
      "execution_count": 17,
      "outputs": []
    },
    {
      "cell_type": "code",
      "source": [],
      "metadata": {
        "id": "zE_gY2Ym4-7z"
      },
      "execution_count": 17,
      "outputs": []
    },
    {
      "cell_type": "markdown",
      "source": [
        "# Modelling"
      ],
      "metadata": {
        "id": "LL_k9KKQDp2j"
      }
    },
    {
      "cell_type": "markdown",
      "source": [],
      "metadata": {
        "id": "HncPuelFEECf"
      }
    },
    {
      "cell_type": "code",
      "source": [
        "import tensorflow as tf\n",
        "from tensorflow.keras.models import Sequential\n",
        "from tensorflow.keras.layers import Dense, Activation, Dropout\n",
        "from tensorflow.keras.callbacks import EarlyStopping\n",
        "\n",
        "model = Sequential()\n",
        "\n",
        "# https://stats.stackexchange.com/questions/181/how-to-choose-the-number-of-hidden-layers-and-nodes-in-a-feedforward-neural-netw\n",
        "\n",
        "model.add(Dense(units=29,activation='relu'))\n",
        "model.add(Dropout(0.3))\n",
        "\n",
        "model.add(Dense(units=14,activation='relu'))\n",
        "model.add(Dropout(0.1))\n",
        "\n",
        "model.add(Dense(units=7,activation='relu'))\n",
        "#model.add(Dropout(0.1))\n",
        "\n",
        "model.add(Dense(units=2,activation='relu'))\n",
        "\n",
        "model.add(Dense(units=1,activation='sigmoid'))\n",
        "\n",
        "# For a binary classification problem\n",
        "model.compile(loss='binary_crossentropy',\n",
        "              optimizer='adam',\n",
        "              metrics=[tf.keras.metrics.FalsePositives(),'accuracy'])\n",
        "\n",
        "early_stop = EarlyStopping(monitor='val_loss', mode='min', verbose=2, patience=35)\n"
      ],
      "metadata": {
        "id": "x1DUwxEUEvmP"
      },
      "execution_count": 18,
      "outputs": []
    },
    {
      "cell_type": "code",
      "source": [
        "\n",
        "# model.fit(x=X_train, \n",
        "#           y=y_train, \n",
        "#           epochs=3000,\n",
        "#           validation_data=(X_test, y_test), verbose=2,\n",
        "#           callbacks=[early_stop]\n",
        "#           )\n",
        "\n"
      ],
      "metadata": {
        "id": "JFTVLcsEEGuz"
      },
      "execution_count": 19,
      "outputs": []
    },
    {
      "cell_type": "code",
      "source": [],
      "metadata": {
        "id": "6AdzOcuaP7rC"
      },
      "execution_count": 19,
      "outputs": []
    },
    {
      "cell_type": "code",
      "source": [
        "!pip install imblearn"
      ],
      "metadata": {
        "colab": {
          "base_uri": "https://localhost:8080/"
        },
        "id": "EUj4bcWe8CVk",
        "outputId": "cae1bf60-0232-44ac-9d7f-1c4879c39cdc"
      },
      "execution_count": 20,
      "outputs": [
        {
          "output_type": "stream",
          "name": "stdout",
          "text": [
            "Looking in indexes: https://pypi.org/simple, https://us-python.pkg.dev/colab-wheels/public/simple/\n",
            "Requirement already satisfied: imblearn in /usr/local/lib/python3.9/dist-packages (0.0)\n",
            "Requirement already satisfied: imbalanced-learn in /usr/local/lib/python3.9/dist-packages (from imblearn) (0.10.1)\n",
            "Requirement already satisfied: scikit-learn>=1.0.2 in /usr/local/lib/python3.9/dist-packages (from imbalanced-learn->imblearn) (1.2.2)\n",
            "Requirement already satisfied: threadpoolctl>=2.0.0 in /usr/local/lib/python3.9/dist-packages (from imbalanced-learn->imblearn) (3.1.0)\n",
            "Requirement already satisfied: numpy>=1.17.3 in /usr/local/lib/python3.9/dist-packages (from imbalanced-learn->imblearn) (1.24.3)\n",
            "Requirement already satisfied: scipy>=1.3.2 in /usr/local/lib/python3.9/dist-packages (from imbalanced-learn->imblearn) (1.10.1)\n",
            "Requirement already satisfied: joblib>=1.1.1 in /usr/local/lib/python3.9/dist-packages (from imbalanced-learn->imblearn) (1.2.0)\n"
          ]
        }
      ]
    },
    {
      "cell_type": "code",
      "source": [
        "from imblearn.over_sampling import RandomOverSampler\n",
        "# define oversampling strategy\n",
        "ros = RandomOverSampler(random_state=42)\n",
        "# fit and apply the transform\n",
        "X_over, y_over = ros.fit_resample(X_train, y_train)\n",
        "print('Genuine:', y_over.value_counts()[0], '/', round(y_over.value_counts()[0]/len(y_over) * 100,2), '% of the dataset')\n",
        "print('Frauds:', y_over.value_counts()[1], '/',round(y_over.value_counts()[1]/len(y_over) * 100,2), '% of the dataset')\n"
      ],
      "metadata": {
        "colab": {
          "base_uri": "https://localhost:8080/"
        },
        "id": "f5A_poi_75uM",
        "outputId": "70d475f4-7a77-4035-f740-221e77a8eb45"
      },
      "execution_count": 21,
      "outputs": [
        {
          "output_type": "stream",
          "name": "stdout",
          "text": [
            "Genuine: 902418 / 50.0 % of the dataset\n",
            "Frauds: 902418 / 50.0 % of the dataset\n"
          ]
        }
      ]
    },
    {
      "cell_type": "code",
      "source": [
        "model.fit(x=X_over, \n",
        "          y=y_over, \n",
        "          epochs=50,\n",
        "          validation_data=(X_test, y_test), verbose=2,\n",
        "          batch_size = 50000,\n",
        "          callbacks=[early_stop]\n",
        "          )\n",
        "\n"
      ],
      "metadata": {
        "id": "c0YleDJA89-2",
        "colab": {
          "base_uri": "https://localhost:8080/"
        },
        "outputId": "b68ab216-f1d8-4fef-acef-b43142112b98"
      },
      "execution_count": 23,
      "outputs": [
        {
          "output_type": "stream",
          "name": "stdout",
          "text": [
            "Epoch 1/50\n",
            "37/37 - 5s - loss: 0.3587 - false_positives: 57998.0000 - accuracy: 0.8505 - val_loss: 0.2976 - val_false_positives: 15125.0000 - val_accuracy: 0.9598 - 5s/epoch - 139ms/step\n",
            "Epoch 2/50\n",
            "37/37 - 9s - loss: 0.3495 - false_positives: 53497.0000 - accuracy: 0.8546 - val_loss: 0.2896 - val_false_positives: 14197.0000 - val_accuracy: 0.9622 - 9s/epoch - 245ms/step\n",
            "Epoch 3/50\n",
            "37/37 - 6s - loss: 0.3425 - false_positives: 49887.0000 - accuracy: 0.8579 - val_loss: 0.2833 - val_false_positives: 13548.0000 - val_accuracy: 0.9639 - 6s/epoch - 160ms/step\n",
            "Epoch 4/50\n",
            "37/37 - 5s - loss: 0.3370 - false_positives: 47245.0000 - accuracy: 0.8597 - val_loss: 0.2792 - val_false_positives: 13303.0000 - val_accuracy: 0.9645 - 5s/epoch - 132ms/step\n",
            "Epoch 5/50\n",
            "37/37 - 6s - loss: 0.3324 - false_positives: 46495.0000 - accuracy: 0.8612 - val_loss: 0.2768 - val_false_positives: 13404.0000 - val_accuracy: 0.9643 - 6s/epoch - 166ms/step\n",
            "Epoch 6/50\n",
            "37/37 - 5s - loss: 0.3287 - false_positives: 46039.0000 - accuracy: 0.8622 - val_loss: 0.2739 - val_false_positives: 13645.0000 - val_accuracy: 0.9637 - 5s/epoch - 146ms/step\n",
            "Epoch 7/50\n",
            "37/37 - 5s - loss: 0.3242 - false_positives: 46458.0000 - accuracy: 0.8640 - val_loss: 0.2703 - val_false_positives: 14359.0000 - val_accuracy: 0.9619 - 5s/epoch - 130ms/step\n",
            "Epoch 8/50\n",
            "37/37 - 6s - loss: 0.3200 - false_positives: 47828.0000 - accuracy: 0.8658 - val_loss: 0.2737 - val_false_positives: 16268.0000 - val_accuracy: 0.9570 - 6s/epoch - 171ms/step\n",
            "Epoch 9/50\n",
            "37/37 - 6s - loss: 0.3154 - false_positives: 50114.0000 - accuracy: 0.8682 - val_loss: 0.2690 - val_false_positives: 16769.0000 - val_accuracy: 0.9558 - 6s/epoch - 153ms/step\n",
            "Epoch 10/50\n",
            "37/37 - 4s - loss: 0.3112 - false_positives: 50536.0000 - accuracy: 0.8702 - val_loss: 0.2670 - val_false_positives: 17008.0000 - val_accuracy: 0.9552 - 4s/epoch - 99ms/step\n",
            "Epoch 11/50\n",
            "37/37 - 2s - loss: 0.3069 - false_positives: 51566.0000 - accuracy: 0.8719 - val_loss: 0.2646 - val_false_positives: 17824.0000 - val_accuracy: 0.9531 - 2s/epoch - 66ms/step\n",
            "Epoch 12/50\n",
            "37/37 - 3s - loss: 0.3028 - false_positives: 52791.0000 - accuracy: 0.8736 - val_loss: 0.2617 - val_false_positives: 18179.0000 - val_accuracy: 0.9522 - 3s/epoch - 72ms/step\n",
            "Epoch 13/50\n",
            "37/37 - 4s - loss: 0.2992 - false_positives: 53275.0000 - accuracy: 0.8751 - val_loss: 0.2599 - val_false_positives: 19328.0000 - val_accuracy: 0.9493 - 4s/epoch - 119ms/step\n",
            "Epoch 14/50\n",
            "37/37 - 3s - loss: 0.2946 - false_positives: 54175.0000 - accuracy: 0.8768 - val_loss: 0.2566 - val_false_positives: 19511.0000 - val_accuracy: 0.9489 - 3s/epoch - 81ms/step\n",
            "Epoch 15/50\n",
            "37/37 - 2s - loss: 0.2904 - false_positives: 54719.0000 - accuracy: 0.8783 - val_loss: 0.2540 - val_false_positives: 19093.0000 - val_accuracy: 0.9499 - 2s/epoch - 66ms/step\n",
            "Epoch 16/50\n",
            "37/37 - 2s - loss: 0.2862 - false_positives: 54914.0000 - accuracy: 0.8803 - val_loss: 0.2508 - val_false_positives: 18291.0000 - val_accuracy: 0.9520 - 2s/epoch - 65ms/step\n",
            "Epoch 17/50\n",
            "37/37 - 3s - loss: 0.2827 - false_positives: 54751.0000 - accuracy: 0.8822 - val_loss: 0.2482 - val_false_positives: 17983.0000 - val_accuracy: 0.9529 - 3s/epoch - 91ms/step\n",
            "Epoch 18/50\n",
            "37/37 - 4s - loss: 0.2793 - false_positives: 54043.0000 - accuracy: 0.8842 - val_loss: 0.2440 - val_false_positives: 17464.0000 - val_accuracy: 0.9542 - 4s/epoch - 115ms/step\n",
            "Epoch 19/50\n",
            "37/37 - 3s - loss: 0.2757 - false_positives: 54849.0000 - accuracy: 0.8854 - val_loss: 0.2392 - val_false_positives: 17073.0000 - val_accuracy: 0.9552 - 3s/epoch - 89ms/step\n",
            "Epoch 20/50\n",
            "37/37 - 2s - loss: 0.2723 - false_positives: 54727.0000 - accuracy: 0.8867 - val_loss: 0.2396 - val_false_positives: 18115.0000 - val_accuracy: 0.9526 - 2s/epoch - 66ms/step\n",
            "Epoch 21/50\n",
            "37/37 - 2s - loss: 0.2681 - false_positives: 55050.0000 - accuracy: 0.8882 - val_loss: 0.2357 - val_false_positives: 17999.0000 - val_accuracy: 0.9529 - 2s/epoch - 66ms/step\n",
            "Epoch 22/50\n",
            "37/37 - 2s - loss: 0.2634 - false_positives: 55080.0000 - accuracy: 0.8900 - val_loss: 0.2307 - val_false_positives: 18530.0000 - val_accuracy: 0.9516 - 2s/epoch - 65ms/step\n",
            "Epoch 23/50\n",
            "37/37 - 5s - loss: 0.2590 - false_positives: 55638.0000 - accuracy: 0.8919 - val_loss: 0.2264 - val_false_positives: 18182.0000 - val_accuracy: 0.9525 - 5s/epoch - 131ms/step\n",
            "Epoch 24/50\n",
            "37/37 - 5s - loss: 0.2542 - false_positives: 54459.0000 - accuracy: 0.8937 - val_loss: 0.2234 - val_false_positives: 19328.0000 - val_accuracy: 0.9496 - 5s/epoch - 146ms/step\n",
            "Epoch 25/50\n",
            "37/37 - 2s - loss: 0.2500 - false_positives: 54779.0000 - accuracy: 0.8952 - val_loss: 0.2161 - val_false_positives: 17994.0000 - val_accuracy: 0.9530 - 2s/epoch - 67ms/step\n",
            "Epoch 26/50\n",
            "37/37 - 2s - loss: 0.2456 - false_positives: 54718.0000 - accuracy: 0.8975 - val_loss: 0.2131 - val_false_positives: 17923.0000 - val_accuracy: 0.9532 - 2s/epoch - 66ms/step\n",
            "Epoch 27/50\n",
            "37/37 - 3s - loss: 0.2419 - false_positives: 54590.0000 - accuracy: 0.8999 - val_loss: 0.2143 - val_false_positives: 19842.0000 - val_accuracy: 0.9483 - 3s/epoch - 89ms/step\n",
            "Epoch 28/50\n",
            "37/37 - 4s - loss: 0.2385 - false_positives: 55348.0000 - accuracy: 0.9020 - val_loss: 0.2075 - val_false_positives: 18602.0000 - val_accuracy: 0.9515 - 4s/epoch - 96ms/step\n",
            "Epoch 29/50\n",
            "37/37 - 4s - loss: 0.2352 - false_positives: 55021.0000 - accuracy: 0.9040 - val_loss: 0.2108 - val_false_positives: 21369.0000 - val_accuracy: 0.9445 - 4s/epoch - 112ms/step\n",
            "Epoch 30/50\n",
            "37/37 - 3s - loss: 0.2324 - false_positives: 55602.0000 - accuracy: 0.9055 - val_loss: 0.2026 - val_false_positives: 19060.0000 - val_accuracy: 0.9504 - 3s/epoch - 76ms/step\n",
            "Epoch 31/50\n",
            "37/37 - 2s - loss: 0.2289 - false_positives: 54637.0000 - accuracy: 0.9074 - val_loss: 0.2053 - val_false_positives: 20705.0000 - val_accuracy: 0.9462 - 2s/epoch - 67ms/step\n",
            "Epoch 32/50\n",
            "37/37 - 2s - loss: 0.2256 - false_positives: 54895.0000 - accuracy: 0.9089 - val_loss: 0.2026 - val_false_positives: 20012.0000 - val_accuracy: 0.9480 - 2s/epoch - 64ms/step\n",
            "Epoch 33/50\n",
            "37/37 - 3s - loss: 0.2228 - false_positives: 54870.0000 - accuracy: 0.9105 - val_loss: 0.2076 - val_false_positives: 21823.0000 - val_accuracy: 0.9434 - 3s/epoch - 76ms/step\n",
            "Epoch 34/50\n",
            "37/37 - 4s - loss: 0.2200 - false_positives: 55403.0000 - accuracy: 0.9118 - val_loss: 0.2061 - val_false_positives: 21803.0000 - val_accuracy: 0.9434 - 4s/epoch - 121ms/step\n",
            "Epoch 35/50\n",
            "37/37 - 3s - loss: 0.2168 - false_positives: 55306.0000 - accuracy: 0.9132 - val_loss: 0.2019 - val_false_positives: 21710.0000 - val_accuracy: 0.9437 - 3s/epoch - 77ms/step\n",
            "Epoch 36/50\n",
            "37/37 - 4s - loss: 0.2142 - false_positives: 55096.0000 - accuracy: 0.9148 - val_loss: 0.2017 - val_false_positives: 22510.0000 - val_accuracy: 0.9416 - 4s/epoch - 121ms/step\n",
            "Epoch 37/50\n",
            "37/37 - 3s - loss: 0.2118 - false_positives: 55284.0000 - accuracy: 0.9156 - val_loss: 0.2020 - val_false_positives: 22571.0000 - val_accuracy: 0.9415 - 3s/epoch - 87ms/step\n",
            "Epoch 38/50\n",
            "37/37 - 4s - loss: 0.2097 - false_positives: 55279.0000 - accuracy: 0.9163 - val_loss: 0.1984 - val_false_positives: 22218.0000 - val_accuracy: 0.9424 - 4s/epoch - 109ms/step\n",
            "Epoch 39/50\n",
            "37/37 - 4s - loss: 0.2081 - false_positives: 55595.0000 - accuracy: 0.9167 - val_loss: 0.1986 - val_false_positives: 23054.0000 - val_accuracy: 0.9402 - 4s/epoch - 95ms/step\n",
            "Epoch 40/50\n",
            "37/37 - 2s - loss: 0.2057 - false_positives: 55159.0000 - accuracy: 0.9176 - val_loss: 0.1945 - val_false_positives: 22842.0000 - val_accuracy: 0.9407 - 2s/epoch - 67ms/step\n",
            "Epoch 41/50\n",
            "37/37 - 2s - loss: 0.2045 - false_positives: 55474.0000 - accuracy: 0.9182 - val_loss: 0.1979 - val_false_positives: 23724.0000 - val_accuracy: 0.9385 - 2s/epoch - 67ms/step\n",
            "Epoch 42/50\n",
            "37/37 - 2s - loss: 0.2022 - false_positives: 54847.0000 - accuracy: 0.9191 - val_loss: 0.1985 - val_false_positives: 24187.0000 - val_accuracy: 0.9373 - 2s/epoch - 65ms/step\n",
            "Epoch 43/50\n",
            "37/37 - 3s - loss: 0.2000 - false_positives: 54636.0000 - accuracy: 0.9202 - val_loss: 0.1923 - val_false_positives: 24046.0000 - val_accuracy: 0.9377 - 3s/epoch - 84ms/step\n",
            "Epoch 44/50\n",
            "37/37 - 4s - loss: 0.1984 - false_positives: 54276.0000 - accuracy: 0.9215 - val_loss: 0.1906 - val_false_positives: 23309.0000 - val_accuracy: 0.9395 - 4s/epoch - 118ms/step\n",
            "Epoch 45/50\n",
            "37/37 - 3s - loss: 0.1967 - false_positives: 54311.0000 - accuracy: 0.9220 - val_loss: 0.1891 - val_false_positives: 23891.0000 - val_accuracy: 0.9381 - 3s/epoch - 70ms/step\n",
            "Epoch 46/50\n",
            "37/37 - 2s - loss: 0.1951 - false_positives: 54337.0000 - accuracy: 0.9231 - val_loss: 0.1813 - val_false_positives: 22592.0000 - val_accuracy: 0.9414 - 2s/epoch - 67ms/step\n",
            "Epoch 47/50\n",
            "37/37 - 3s - loss: 0.1943 - false_positives: 54328.0000 - accuracy: 0.9234 - val_loss: 0.1953 - val_false_positives: 25354.0000 - val_accuracy: 0.9344 - 3s/epoch - 90ms/step\n",
            "Epoch 48/50\n",
            "37/37 - 3s - loss: 0.1928 - false_positives: 54239.0000 - accuracy: 0.9239 - val_loss: 0.1849 - val_false_positives: 24013.0000 - val_accuracy: 0.9378 - 3s/epoch - 77ms/step\n",
            "Epoch 49/50\n",
            "37/37 - 4s - loss: 0.1919 - false_positives: 53507.0000 - accuracy: 0.9245 - val_loss: 0.1993 - val_false_positives: 27757.0000 - val_accuracy: 0.9282 - 4s/epoch - 114ms/step\n",
            "Epoch 50/50\n",
            "37/37 - 3s - loss: 0.1908 - false_positives: 54065.0000 - accuracy: 0.9247 - val_loss: 0.1817 - val_false_positives: 24213.0000 - val_accuracy: 0.9373 - 3s/epoch - 77ms/step\n"
          ]
        },
        {
          "output_type": "execute_result",
          "data": {
            "text/plain": [
              "<keras.callbacks.History at 0x7f34c66ba700>"
            ]
          },
          "metadata": {},
          "execution_count": 23
        }
      ]
    },
    {
      "cell_type": "code",
      "source": [
        "model_loss = pd.DataFrame(model.history.history)\n",
        "model_loss.plot()\n"
      ],
      "metadata": {
        "colab": {
          "base_uri": "https://localhost:8080/",
          "height": 447
        },
        "id": "ub1-bLKsXK2-",
        "outputId": "42db1012-f2de-4b94-a0c8-d65bfbc926cc"
      },
      "execution_count": 24,
      "outputs": [
        {
          "output_type": "execute_result",
          "data": {
            "text/plain": [
              "<Axes: >"
            ]
          },
          "metadata": {},
          "execution_count": 24
        },
        {
          "output_type": "display_data",
          "data": {
            "text/plain": [
              "<Figure size 640x480 with 1 Axes>"
            ],
            "image/png": "[encoded data removed]"
          },
          "metadata": {}
        }
      ]
    },
    {
      "cell_type": "code",
      "source": [
        "over_predictions_2nd = (model.predict(X_test) > 0.5)*1\n"
      ],
      "metadata": {
        "colab": {
          "base_uri": "https://localhost:8080/"
        },
        "id": "ue6wYd-jXL1u",
        "outputId": "1e2d7a86-a125-45c1-debc-25ccb0364a10"
      },
      "execution_count": 25,
      "outputs": [
        {
          "output_type": "stream",
          "name": "stdout",
          "text": [
            "12157/12157 [==============================] - 35s 3ms/step\n"
          ]
        }
      ]
    },
    {
      "cell_type": "code",
      "source": [
        "from sklearn.metrics import classification_report,confusion_matrix,recall_score,precision_score,f1_score,accuracy_score\n",
        "print(classification_report(y_test,over_predictions_2nd))\n"
      ],
      "metadata": {
        "colab": {
          "base_uri": "https://localhost:8080/"
        },
        "id": "byH1ZN99XPb4",
        "outputId": "aa77fe5d-83e8-4d73-cd12-5d00e444c85e"
      },
      "execution_count": 26,
      "outputs": [
        {
          "output_type": "stream",
          "name": "stdout",
          "text": [
            "              precision    recall  f1-score   support\n",
            "\n",
            "           0       1.00      0.94      0.97    386751\n",
            "           1       0.08      0.92      0.14      2252\n",
            "\n",
            "    accuracy                           0.94    389003\n",
            "   macro avg       0.54      0.93      0.56    389003\n",
            "weighted avg       0.99      0.94      0.96    389003\n",
            "\n"
          ]
        }
      ]
    },
    {
      "cell_type": "code",
      "source": [],
      "metadata": {
        "id": "row0aMpPXPfj"
      },
      "execution_count": 26,
      "outputs": []
    },
    {
      "cell_type": "code",
      "source": [
        "import matplotlib.pyplot as plt\n",
        "import seaborn as sns\n",
        "from sklearn.metrics import confusion_matrix\n",
        "\n",
        "# Create confusion matrix\n",
        "cf_matrix = confusion_matrix(y_test, over_predictions_2nd)\n",
        "\n",
        "labels = ['Not Fraud', 'Fraud']\n",
        "\n",
        "# Plot confusion matrix\n",
        "sns.heatmap(cf_matrix, annot=True, cmap='Blues', fmt='g', xticklabels=labels, yticklabels=labels)\n",
        "plt.title('Neural Network Confusion Matrix for Random Oversampling')\n",
        "plt.xlabel('Predicted')\n",
        "plt.ylabel('Actual')\n",
        "plt.show()\n"
      ],
      "metadata": {
        "colab": {
          "base_uri": "https://localhost:8080/",
          "height": 472
        },
        "id": "n16Vb_5V4cuD",
        "outputId": "4652d619-1bbf-4819-97a8-97221905bcf5"
      },
      "execution_count": 27,
      "outputs": [
        {
          "output_type": "display_data",
          "data": {
            "text/plain": [
              "<Figure size 640x480 with 2 Axes>"
            ],
            "image/png": "[encoded data removed]"
          },
          "metadata": {}
        }
      ]
    },
    {
      "cell_type": "code",
      "source": [
        "over_nn_cm = confusion_matrix(y_test, over_predictions_2nd)\n",
        "\n",
        "over_nn_rf_Recall = recall_score(y_test, over_predictions_2nd)\n",
        "over_nn_rf_Precision = precision_score(y_test, over_predictions_2nd)\n",
        "over_nn_rf_f1 = f1_score(y_test, over_predictions_2nd)\n",
        "over_nn_rf_accuracy = accuracy_score(y_test, over_predictions_2nd)\n",
        "\n",
        "print(over_nn_cm)\n"
      ],
      "metadata": {
        "id": "Z7HNWgG26Lfl",
        "colab": {
          "base_uri": "https://localhost:8080/"
        },
        "outputId": "4be22d86-62d6-4cd1-f132-514685213e4a"
      },
      "execution_count": 29,
      "outputs": [
        {
          "output_type": "stream",
          "name": "stdout",
          "text": [
            "[[362538  24213]\n",
            " [   189   2063]]\n"
          ]
        }
      ]
    },
    {
      "cell_type": "code",
      "source": [
        "ndf = [(over_nn_rf_Recall, over_nn_rf_Precision, over_nn_rf_f1, over_nn_rf_accuracy)]\n",
        "\n",
        "over_nn_score = pd.DataFrame(data = ndf, columns=['Recall','Precision','F1 Score', 'Accuracy'])\n",
        "over_nn_score.insert(0, 'Neural Network with', 'Oversampling')\n",
        "over_nn_score\n"
      ],
      "metadata": {
        "colab": {
          "base_uri": "https://localhost:8080/",
          "height": 80
        },
        "id": "G25coW9k69ce",
        "outputId": "ecc3cd11-1184-46b6-9fec-d2cbf865acb3"
      },
      "execution_count": 61,
      "outputs": [
        {
          "output_type": "execute_result",
          "data": {
            "text/plain": [
              "  Neural Network with    Recall  Precision  F1 Score  Accuracy\n",
              "0        Oversampling  0.916075   0.078513   0.14463   0.93727"
            ],
            "text/html": [
              "\n",
              "  <div id=\"df-8f82588b-30b9-48c3-974b-c59cb04e0c60\">\n",
              "    <div class=\"colab-df-container\">\n",
              "      <div>\n",
              "<style scoped>\n",
              "    .dataframe tbody tr th:only-of-type {\n",
              "        vertical-align: middle;\n",
              "    }\n",
              "\n",
              "    .dataframe tbody tr th {\n",
              "        vertical-align: top;\n",
              "    }\n",
              "\n",
              "    .dataframe thead th {\n",
              "        text-align: right;\n",
              "    }\n",
              "</style>\n",
              "<table border=\"1\" class=\"dataframe\">\n",
              "  <thead>\n",
              "    <tr style=\"text-align: right;\">\n",
              "      <th></th>\n",
              "      <th>Neural Network with</th>\n",
              "      <th>Recall</th>\n",
              "      <th>Precision</th>\n",
              "      <th>F1 Score</th>\n",
              "      <th>Accuracy</th>\n",
              "    </tr>\n",
              "  </thead>\n",
              "  <tbody>\n",
              "    <tr>\n",
              "      <th>0</th>\n",
              "      <td>Oversampling</td>\n",
              "      <td>0.916075</td>\n",
              "      <td>0.078513</td>\n",
              "      <td>0.14463</td>\n",
              "      <td>0.93727</td>\n",
              "    </tr>\n",
              "  </tbody>\n",
              "</table>\n",
              "</div>\n",
              "      <button class=\"colab-df-convert\" onclick=\"convertToInteractive('df-8f82588b-30b9-48c3-974b-c59cb04e0c60')\"\n",
              "              title=\"Convert this dataframe to an interactive table.\"\n",
              "              style=\"display:none;\">\n",
              "        \n",
              "  <svg xmlns=\"http://www.w3.org/2000/svg\" height=\"24px\"viewBox=\"0 0 24 24\"\n",
              "       width=\"24px\">\n",
              "    <path d=\"M0 0h24v24H0V0z\" fill=\"none\"/>\n",
              "    <path d=\"M18.56 5.44l.94 2.06.94-2.06 2.06-.94-2.06-.94-.94-2.06-.94 2.06-2.06.94zm-11 1L8.5 8.5l.94-2.06 2.06-.94-2.06-.94L8.5 2.5l-.94 2.06-2.06.94zm10 10l.94 2.06.94-2.06 2.06-.94-2.06-.94-.94-2.06-.94 2.06-2.06.94z\"/><path d=\"M17.41 7.96l-1.37-1.37c-.4-.4-.92-.59-1.43-.59-.52 0-1.04.2-1.43.59L10.3 9.45l-7.72 7.72c-.78.78-.78 2.05 0 2.83L4 21.41c.39.39.9.59 1.41.59.51 0 1.02-.2 1.41-.59l7.78-7.78 2.81-2.81c.8-.78.8-2.07 0-2.86zM5.41 20L4 18.59l7.72-7.72 1.47 1.35L5.41 20z\"/>\n",
              "  </svg>\n",
              "      </button>\n",
              "      \n",
              "  <style>\n",
              "    .colab-df-container {\n",
              "      display:flex;\n",
              "      flex-wrap:wrap;\n",
              "      gap: 12px;\n",
              "    }\n",
              "\n",
              "    .colab-df-convert {\n",
              "      background-color: #E8F0FE;\n",
              "      border: none;\n",
              "      border-radius: 50%;\n",
              "      cursor: pointer;\n",
              "      display: none;\n",
              "      fill: #1967D2;\n",
              "      height: 32px;\n",
              "      padding: 0 0 0 0;\n",
              "      width: 32px;\n",
              "    }\n",
              "\n",
              "    .colab-df-convert:hover {\n",
              "      background-color: #E2EBFA;\n",
              "      box-shadow: 0px 1px 2px rgba(60, 64, 67, 0.3), 0px 1px 3px 1px rgba(60, 64, 67, 0.15);\n",
              "      fill: #174EA6;\n",
              "    }\n",
              "\n",
              "    [theme=dark] .colab-df-convert {\n",
              "      background-color: #3B4455;\n",
              "      fill: #D2E3FC;\n",
              "    }\n",
              "\n",
              "    [theme=dark] .colab-df-convert:hover {\n",
              "      background-color: #434B5C;\n",
              "      box-shadow: 0px 1px 3px 1px rgba(0, 0, 0, 0.15);\n",
              "      filter: drop-shadow(0px 1px 2px rgba(0, 0, 0, 0.3));\n",
              "      fill: #FFFFFF;\n",
              "    }\n",
              "  </style>\n",
              "\n",
              "      <script>\n",
              "        const buttonEl =\n",
              "          document.querySelector('#df-8f82588b-30b9-48c3-974b-c59cb04e0c60 button.colab-df-convert');\n",
              "        buttonEl.style.display =\n",
              "          google.colab.kernel.accessAllowed ? 'block' : 'none';\n",
              "\n",
              "        async function convertToInteractive(key) {\n",
              "          const element = document.querySelector('#df-8f82588b-30b9-48c3-974b-c59cb04e0c60');\n",
              "          const dataTable =\n",
              "            await google.colab.kernel.invokeFunction('convertToInteractive',\n",
              "                                                     [key], {});\n",
              "          if (!dataTable) return;\n",
              "\n",
              "          const docLinkHtml = 'Like what you see? Visit the ' +\n",
              "            '<a target=\"_blank\" href=https://colab.research.google.com/notebooks/data_table.ipynb>data table notebook</a>'\n",
              "            + ' to learn more about interactive tables.';\n",
              "          element.innerHTML = '';\n",
              "          dataTable['output_type'] = 'display_data';\n",
              "          await google.colab.output.renderOutput(dataTable, element);\n",
              "          const docLink = document.createElement('div');\n",
              "          docLink.innerHTML = docLinkHtml;\n",
              "          element.appendChild(docLink);\n",
              "        }\n",
              "      </script>\n",
              "    </div>\n",
              "  </div>\n",
              "  "
            ]
          },
          "metadata": {},
          "execution_count": 61
        }
      ]
    },
    {
      "cell_type": "code",
      "source": [],
      "metadata": {
        "id": "O_vnI2fvbHEw"
      },
      "execution_count": 30,
      "outputs": []
    },
    {
      "cell_type": "code",
      "source": [
        "import tensorflow as tf\n",
        "from tensorflow.keras.models import Sequential\n",
        "from tensorflow.keras.layers import Dense, Activation, Dropout\n",
        "from tensorflow.keras.callbacks import EarlyStopping\n",
        "\n",
        "model = Sequential()\n",
        "\n",
        "# https://stats.stackexchange.com/questions/181/how-to-choose-the-number-of-hidden-layers-and-nodes-in-a-feedforward-neural-netw\n",
        "\n",
        "model.add(Dense(units=29,activation='relu'))\n",
        "model.add(Dropout(0.3))\n",
        "\n",
        "model.add(Dense(units=14,activation='relu'))\n",
        "model.add(Dropout(0.1))\n",
        "\n",
        "model.add(Dense(units=7,activation='relu'))\n",
        "#model.add(Dropout(0.1))\n",
        "\n",
        "model.add(Dense(units=2,activation='relu'))\n",
        "\n",
        "model.add(Dense(units=1,activation='sigmoid'))\n",
        "\n",
        "# For a binary classification problem\n",
        "model.compile(loss='binary_crossentropy',\n",
        "              optimizer='adam',\n",
        "              metrics=[tf.keras.metrics.FalsePositives()])\n",
        "\n",
        "early_stop = EarlyStopping(monitor='val_loss', mode='min', verbose=2, patience=35)\n"
      ],
      "metadata": {
        "id": "hYVVIbbYbpO3"
      },
      "execution_count": 31,
      "outputs": []
    },
    {
      "cell_type": "code",
      "source": [
        "from imblearn.pipeline import Pipeline, make_pipeline\n",
        "from imblearn.over_sampling import SMOTE\n",
        "\n",
        "oversample = SMOTE()\n",
        "X_train, y_train = oversample.fit_resample(X_train, y_train)"
      ],
      "metadata": {
        "id": "opKVjxB39b3e"
      },
      "execution_count": 32,
      "outputs": []
    },
    {
      "cell_type": "code",
      "source": [],
      "metadata": {
        "id": "seAZA11AccAS"
      },
      "execution_count": 32,
      "outputs": []
    },
    {
      "cell_type": "code",
      "source": [
        "model.fit(x=X_train, \n",
        "          y=y_train, \n",
        "          epochs=50,\n",
        "          validation_data=(X_test, y_test), verbose=2,\n",
        "          batch_size = 50000,\n",
        "          callbacks=[early_stop]\n",
        "          )\n",
        "\n"
      ],
      "metadata": {
        "colab": {
          "base_uri": "https://localhost:8080/"
        },
        "outputId": "1dfb7cab-ea46-4ffa-a313-0981679ec139",
        "id": "MNbZmRnIdAlQ"
      },
      "execution_count": 33,
      "outputs": [
        {
          "output_type": "stream",
          "name": "stdout",
          "text": [
            "Epoch 1/50\n",
            "37/37 - 10s - loss: 0.6972 - false_positives_1: 271090.0000 - val_loss: 0.6086 - val_false_positives_1: 84601.0000 - 10s/epoch - 270ms/step\n",
            "Epoch 2/50\n",
            "37/37 - 8s - loss: 0.5937 - false_positives_1: 165120.0000 - val_loss: 0.4249 - val_false_positives_1: 28926.0000 - 8s/epoch - 203ms/step\n",
            "Epoch 3/50\n",
            "37/37 - 5s - loss: 0.4833 - false_positives_1: 92178.0000 - val_loss: 0.3290 - val_false_positives_1: 15900.0000 - 5s/epoch - 130ms/step\n",
            "Epoch 4/50\n",
            "37/37 - 6s - loss: 0.4167 - false_positives_1: 63288.0000 - val_loss: 0.3127 - val_false_positives_1: 11941.0000 - 6s/epoch - 164ms/step\n",
            "Epoch 5/50\n",
            "37/37 - 5s - loss: 0.3897 - false_positives_1: 48840.0000 - val_loss: 0.3060 - val_false_positives_1: 10895.0000 - 5s/epoch - 135ms/step\n",
            "Epoch 6/50\n",
            "37/37 - 3s - loss: 0.3735 - false_positives_1: 41885.0000 - val_loss: 0.2986 - val_false_positives_1: 10433.0000 - 3s/epoch - 88ms/step\n",
            "Epoch 7/50\n",
            "37/37 - 2s - loss: 0.3608 - false_positives_1: 38839.0000 - val_loss: 0.2894 - val_false_positives_1: 10099.0000 - 2s/epoch - 65ms/step\n",
            "Epoch 8/50\n",
            "37/37 - 2s - loss: 0.3496 - false_positives_1: 36409.0000 - val_loss: 0.2844 - val_false_positives_1: 10040.0000 - 2s/epoch - 65ms/step\n",
            "Epoch 9/50\n",
            "37/37 - 4s - loss: 0.3400 - false_positives_1: 34637.0000 - val_loss: 0.2823 - val_false_positives_1: 10456.0000 - 4s/epoch - 96ms/step\n",
            "Epoch 10/50\n",
            "37/37 - 4s - loss: 0.3313 - false_positives_1: 34897.0000 - val_loss: 0.2747 - val_false_positives_1: 11008.0000 - 4s/epoch - 107ms/step\n",
            "Epoch 11/50\n",
            "37/37 - 3s - loss: 0.3242 - false_positives_1: 34879.0000 - val_loss: 0.2693 - val_false_positives_1: 11672.0000 - 3s/epoch - 69ms/step\n",
            "Epoch 12/50\n",
            "37/37 - 2s - loss: 0.3178 - false_positives_1: 35669.0000 - val_loss: 0.2675 - val_false_positives_1: 12677.0000 - 2s/epoch - 65ms/step\n",
            "Epoch 13/50\n",
            "37/37 - 2s - loss: 0.3116 - false_positives_1: 36560.0000 - val_loss: 0.2598 - val_false_positives_1: 12915.0000 - 2s/epoch - 65ms/step\n",
            "Epoch 14/50\n",
            "37/37 - 3s - loss: 0.3051 - false_positives_1: 38248.0000 - val_loss: 0.2565 - val_false_positives_1: 14467.0000 - 3s/epoch - 71ms/step\n",
            "Epoch 15/50\n",
            "37/37 - 4s - loss: 0.2993 - false_positives_1: 40674.0000 - val_loss: 0.2547 - val_false_positives_1: 17145.0000 - 4s/epoch - 118ms/step\n",
            "Epoch 16/50\n",
            "37/37 - 5s - loss: 0.2931 - false_positives_1: 46263.0000 - val_loss: 0.2480 - val_false_positives_1: 19634.0000 - 5s/epoch - 132ms/step\n",
            "Epoch 17/50\n",
            "37/37 - 3s - loss: 0.2867 - false_positives_1: 50829.0000 - val_loss: 0.2472 - val_false_positives_1: 19956.0000 - 3s/epoch - 86ms/step\n",
            "Epoch 18/50\n",
            "37/37 - 2s - loss: 0.2801 - false_positives_1: 51344.0000 - val_loss: 0.2432 - val_false_positives_1: 18187.0000 - 2s/epoch - 65ms/step\n",
            "Epoch 19/50\n",
            "37/37 - 3s - loss: 0.2739 - false_positives_1: 51324.0000 - val_loss: 0.2400 - val_false_positives_1: 17250.0000 - 3s/epoch - 91ms/step\n",
            "Epoch 20/50\n",
            "37/37 - 4s - loss: 0.2683 - false_positives_1: 51158.0000 - val_loss: 0.2380 - val_false_positives_1: 16848.0000 - 4s/epoch - 112ms/step\n",
            "Epoch 21/50\n",
            "37/37 - 2s - loss: 0.2635 - false_positives_1: 50891.0000 - val_loss: 0.2350 - val_false_positives_1: 17002.0000 - 2s/epoch - 64ms/step\n",
            "Epoch 22/50\n",
            "37/37 - 2s - loss: 0.2583 - false_positives_1: 51776.0000 - val_loss: 0.2290 - val_false_positives_1: 16471.0000 - 2s/epoch - 65ms/step\n",
            "Epoch 23/50\n",
            "37/37 - 2s - loss: 0.2546 - false_positives_1: 51499.0000 - val_loss: 0.2259 - val_false_positives_1: 16731.0000 - 2s/epoch - 65ms/step\n",
            "Epoch 24/50\n",
            "37/37 - 2s - loss: 0.2513 - false_positives_1: 50854.0000 - val_loss: 0.2216 - val_false_positives_1: 15852.0000 - 2s/epoch - 65ms/step\n",
            "Epoch 25/50\n",
            "37/37 - 4s - loss: 0.2483 - false_positives_1: 50469.0000 - val_loss: 0.2203 - val_false_positives_1: 16200.0000 - 4s/epoch - 114ms/step\n",
            "Epoch 26/50\n",
            "37/37 - 5s - loss: 0.2456 - false_positives_1: 50264.0000 - val_loss: 0.2152 - val_false_positives_1: 15925.0000 - 5s/epoch - 135ms/step\n",
            "Epoch 27/50\n",
            "37/37 - 3s - loss: 0.2430 - false_positives_1: 50130.0000 - val_loss: 0.2101 - val_false_positives_1: 16106.0000 - 3s/epoch - 74ms/step\n",
            "Epoch 28/50\n",
            "37/37 - 2s - loss: 0.2384 - false_positives_1: 48971.0000 - val_loss: 0.2030 - val_false_positives_1: 16299.0000 - 2s/epoch - 65ms/step\n",
            "Epoch 29/50\n",
            "37/37 - 2s - loss: 0.2345 - false_positives_1: 49631.0000 - val_loss: 0.1916 - val_false_positives_1: 15468.0000 - 2s/epoch - 65ms/step\n",
            "Epoch 30/50\n",
            "37/37 - 4s - loss: 0.2315 - false_positives_1: 49432.0000 - val_loss: 0.1921 - val_false_positives_1: 16141.0000 - 4s/epoch - 98ms/step\n",
            "Epoch 31/50\n",
            "37/37 - 4s - loss: 0.2292 - false_positives_1: 49809.0000 - val_loss: 0.1877 - val_false_positives_1: 15379.0000 - 4s/epoch - 105ms/step\n",
            "Epoch 32/50\n",
            "37/37 - 3s - loss: 0.2263 - false_positives_1: 49022.0000 - val_loss: 0.1829 - val_false_positives_1: 15443.0000 - 3s/epoch - 69ms/step\n",
            "Epoch 33/50\n",
            "37/37 - 2s - loss: 0.2245 - false_positives_1: 49120.0000 - val_loss: 0.1845 - val_false_positives_1: 15854.0000 - 2s/epoch - 65ms/step\n",
            "Epoch 34/50\n",
            "37/37 - 2s - loss: 0.2224 - false_positives_1: 49133.0000 - val_loss: 0.1773 - val_false_positives_1: 15186.0000 - 2s/epoch - 66ms/step\n",
            "Epoch 35/50\n",
            "37/37 - 3s - loss: 0.2201 - false_positives_1: 48767.0000 - val_loss: 0.1820 - val_false_positives_1: 16383.0000 - 3s/epoch - 74ms/step\n",
            "Epoch 36/50\n",
            "37/37 - 6s - loss: 0.2180 - false_positives_1: 49151.0000 - val_loss: 0.1773 - val_false_positives_1: 16647.0000 - 6s/epoch - 151ms/step\n",
            "Epoch 37/50\n",
            "37/37 - 3s - loss: 0.2158 - false_positives_1: 49400.0000 - val_loss: 0.1700 - val_false_positives_1: 15983.0000 - 3s/epoch - 91ms/step\n",
            "Epoch 38/50\n",
            "37/37 - 2s - loss: 0.2150 - false_positives_1: 50131.0000 - val_loss: 0.1740 - val_false_positives_1: 16993.0000 - 2s/epoch - 65ms/step\n",
            "Epoch 39/50\n",
            "37/37 - 2s - loss: 0.2128 - false_positives_1: 49731.0000 - val_loss: 0.1703 - val_false_positives_1: 17192.0000 - 2s/epoch - 65ms/step\n",
            "Epoch 40/50\n",
            "37/37 - 3s - loss: 0.2118 - false_positives_1: 50172.0000 - val_loss: 0.1722 - val_false_positives_1: 17727.0000 - 3s/epoch - 78ms/step\n",
            "Epoch 41/50\n",
            "37/37 - 4s - loss: 0.2102 - false_positives_1: 50496.0000 - val_loss: 0.1703 - val_false_positives_1: 17827.0000 - 4s/epoch - 116ms/step\n",
            "Epoch 42/50\n",
            "37/37 - 3s - loss: 0.2083 - false_positives_1: 50870.0000 - val_loss: 0.1695 - val_false_positives_1: 17420.0000 - 3s/epoch - 73ms/step\n",
            "Epoch 43/50\n",
            "37/37 - 2s - loss: 0.2074 - false_positives_1: 50328.0000 - val_loss: 0.1712 - val_false_positives_1: 17817.0000 - 2s/epoch - 65ms/step\n",
            "Epoch 44/50\n",
            "37/37 - 2s - loss: 0.2067 - false_positives_1: 50939.0000 - val_loss: 0.1711 - val_false_positives_1: 18593.0000 - 2s/epoch - 66ms/step\n",
            "Epoch 45/50\n",
            "37/37 - 2s - loss: 0.2052 - false_positives_1: 51106.0000 - val_loss: 0.1618 - val_false_positives_1: 16166.0000 - 2s/epoch - 66ms/step\n",
            "Epoch 46/50\n",
            "37/37 - 4s - loss: 0.2039 - false_positives_1: 50566.0000 - val_loss: 0.1718 - val_false_positives_1: 18734.0000 - 4s/epoch - 97ms/step\n",
            "Epoch 47/50\n",
            "37/37 - 4s - loss: 0.2032 - false_positives_1: 51024.0000 - val_loss: 0.1672 - val_false_positives_1: 17745.0000 - 4s/epoch - 117ms/step\n",
            "Epoch 48/50\n",
            "37/37 - 3s - loss: 0.2027 - false_positives_1: 51015.0000 - val_loss: 0.1672 - val_false_positives_1: 17539.0000 - 3s/epoch - 77ms/step\n",
            "Epoch 49/50\n",
            "37/37 - 2s - loss: 0.2014 - false_positives_1: 50104.0000 - val_loss: 0.1671 - val_false_positives_1: 18011.0000 - 2s/epoch - 65ms/step\n",
            "Epoch 50/50\n",
            "37/37 - 2s - loss: 0.2010 - false_positives_1: 50561.0000 - val_loss: 0.1632 - val_false_positives_1: 16963.0000 - 2s/epoch - 63ms/step\n"
          ]
        },
        {
          "output_type": "execute_result",
          "data": {
            "text/plain": [
              "<keras.callbacks.History at 0x7f34c5aaabb0>"
            ]
          },
          "metadata": {},
          "execution_count": 33
        }
      ]
    },
    {
      "cell_type": "code",
      "source": [
        "model_loss = pd.DataFrame(model.history.history)\n",
        "model_loss.plot()\n"
      ],
      "metadata": {
        "colab": {
          "base_uri": "https://localhost:8080/",
          "height": 447
        },
        "outputId": "7b8d011a-3166-488e-9454-bfe0a25844b5",
        "id": "S5Z5zb9_dAlS"
      },
      "execution_count": 34,
      "outputs": [
        {
          "output_type": "execute_result",
          "data": {
            "text/plain": [
              "<Axes: >"
            ]
          },
          "metadata": {},
          "execution_count": 34
        },
        {
          "output_type": "display_data",
          "data": {
            "text/plain": [
              "<Figure size 640x480 with 1 Axes>"
            ],
            "image/png": "[encoded data removed]"
          },
          "metadata": {}
        }
      ]
    },
    {
      "cell_type": "code",
      "source": [],
      "metadata": {
        "id": "hgZp45bUcUG_"
      },
      "execution_count": 34,
      "outputs": []
    },
    {
      "cell_type": "code",
      "source": [
        "smote_y_pred = model.predict(X_test)"
      ],
      "metadata": {
        "id": "-HjY4Dev9cVI",
        "colab": {
          "base_uri": "https://localhost:8080/"
        },
        "outputId": "295557e2-faee-4445-d7c9-e65d5d900d53"
      },
      "execution_count": 35,
      "outputs": [
        {
          "output_type": "stream",
          "name": "stdout",
          "text": [
            "12157/12157 [==============================] - 21s 2ms/step\n"
          ]
        }
      ]
    },
    {
      "cell_type": "code",
      "source": [
        "smote_y_pred = (smote_y_pred > 0.5)*1\n"
      ],
      "metadata": {
        "id": "HHcVxMkEenNP"
      },
      "execution_count": 36,
      "outputs": []
    },
    {
      "cell_type": "code",
      "source": [
        "from sklearn.metrics import classification_report,confusion_matrix,recall_score,precision_score,f1_score,accuracy_score\n",
        "print(classification_report(y_test,smote_y_pred))\n"
      ],
      "metadata": {
        "colab": {
          "base_uri": "https://localhost:8080/"
        },
        "outputId": "6a752131-94b6-4dde-f7f3-0aac0c739655",
        "id": "Ty8JZnPEenke"
      },
      "execution_count": 37,
      "outputs": [
        {
          "output_type": "stream",
          "name": "stdout",
          "text": [
            "              precision    recall  f1-score   support\n",
            "\n",
            "           0       1.00      0.96      0.98    386751\n",
            "           1       0.11      0.89      0.19      2252\n",
            "\n",
            "    accuracy                           0.96    389003\n",
            "   macro avg       0.55      0.92      0.58    389003\n",
            "weighted avg       0.99      0.96      0.97    389003\n",
            "\n"
          ]
        }
      ]
    },
    {
      "cell_type": "code",
      "source": [],
      "metadata": {
        "id": "q0AIOJ-uenkg"
      },
      "execution_count": 37,
      "outputs": []
    },
    {
      "cell_type": "code",
      "source": [
        "import matplotlib.pyplot as plt\n",
        "import seaborn as sns\n",
        "from sklearn.metrics import confusion_matrix\n",
        "\n",
        "# Create confusion matrix\n",
        "cf_matrix = confusion_matrix(y_test, smote_y_pred)\n",
        "\n",
        "labels = ['Not Fraud', 'Fraud']\n",
        "\n",
        "# Plot confusion matrix\n",
        "sns.heatmap(cf_matrix, annot=True, cmap='Blues', fmt='g', xticklabels=labels, yticklabels=labels)\n",
        "plt.title('Neural Network Confusion Matrix for Random Oversampling')\n",
        "plt.xlabel('Predicted')\n",
        "plt.ylabel('Actual')\n",
        "plt.show()\n"
      ],
      "metadata": {
        "colab": {
          "base_uri": "https://localhost:8080/",
          "height": 472
        },
        "outputId": "02f748e2-973c-4e66-ecca-6281ff40fb09",
        "id": "1koeUpCvenkg"
      },
      "execution_count": 38,
      "outputs": [
        {
          "output_type": "display_data",
          "data": {
            "text/plain": [
              "<Figure size 640x480 with 2 Axes>"
            ],
            "image/png": "[encoded data removed]"
          },
          "metadata": {}
        }
      ]
    },
    {
      "cell_type": "code",
      "source": [
        "smote_nn_cm = confusion_matrix(y_test, smote_y_pred)\n",
        "\n",
        "smote_nn_rf_Recall = recall_score(y_test, smote_y_pred)\n",
        "smote_nn_rf_Precision = precision_score(y_test, smote_y_pred)\n",
        "smote_nn_rf_f1 = f1_score(y_test, smote_y_pred)\n",
        "smote_nn_rf_accuracy = accuracy_score(y_test, smote_y_pred)\n",
        "\n",
        "print(smote_nn_cm)\n"
      ],
      "metadata": {
        "colab": {
          "base_uri": "https://localhost:8080/"
        },
        "outputId": "3db35747-fab0-4bd7-8544-0a40004bc233",
        "id": "atOkR4-lenkh"
      },
      "execution_count": 39,
      "outputs": [
        {
          "output_type": "stream",
          "name": "stdout",
          "text": [
            "[[369788  16963]\n",
            " [   243   2009]]\n"
          ]
        }
      ]
    },
    {
      "cell_type": "code",
      "source": [],
      "metadata": {
        "id": "naXurzHPemrs"
      },
      "execution_count": 39,
      "outputs": []
    },
    {
      "cell_type": "code",
      "source": [
        "ndf = [(smote_nn_rf_Recall, smote_nn_rf_Precision, smote_nn_rf_f1, smote_nn_rf_accuracy)]\n",
        "\n",
        "smote_nn_score = pd.DataFrame(data = ndf, columns=['Recall','Precision','F1 Score', 'Accuracy'])\n",
        "smote_nn_score.insert(0, 'Neural Network with', 'SMOTE Oversampling')\n",
        "smote_nn_score\n"
      ],
      "metadata": {
        "colab": {
          "base_uri": "https://localhost:8080/",
          "height": 80
        },
        "id": "6mUKoj5A-NpD",
        "outputId": "4e77995c-99f3-43c1-e005-5c79a7c9a9fb"
      },
      "execution_count": 54,
      "outputs": [
        {
          "output_type": "execute_result",
          "data": {
            "text/plain": [
              "  Neural Network with    Recall  Precision  F1 Score  Accuracy\n",
              "0  SMOTE Oversampling  0.892096   0.105893  0.189314  0.955769"
            ],
            "text/html": [
              "\n",
              "  <div id=\"df-0fa59c96-b5fe-4627-954a-262ddc28f60c\">\n",
              "    <div class=\"colab-df-container\">\n",
              "      <div>\n",
              "<style scoped>\n",
              "    .dataframe tbody tr th:only-of-type {\n",
              "        vertical-align: middle;\n",
              "    }\n",
              "\n",
              "    .dataframe tbody tr th {\n",
              "        vertical-align: top;\n",
              "    }\n",
              "\n",
              "    .dataframe thead th {\n",
              "        text-align: right;\n",
              "    }\n",
              "</style>\n",
              "<table border=\"1\" class=\"dataframe\">\n",
              "  <thead>\n",
              "    <tr style=\"text-align: right;\">\n",
              "      <th></th>\n",
              "      <th>Neural Network with</th>\n",
              "      <th>Recall</th>\n",
              "      <th>Precision</th>\n",
              "      <th>F1 Score</th>\n",
              "      <th>Accuracy</th>\n",
              "    </tr>\n",
              "  </thead>\n",
              "  <tbody>\n",
              "    <tr>\n",
              "      <th>0</th>\n",
              "      <td>SMOTE Oversampling</td>\n",
              "      <td>0.892096</td>\n",
              "      <td>0.105893</td>\n",
              "      <td>0.189314</td>\n",
              "      <td>0.955769</td>\n",
              "    </tr>\n",
              "  </tbody>\n",
              "</table>\n",
              "</div>\n",
              "      <button class=\"colab-df-convert\" onclick=\"convertToInteractive('df-0fa59c96-b5fe-4627-954a-262ddc28f60c')\"\n",
              "              title=\"Convert this dataframe to an interactive table.\"\n",
              "              style=\"display:none;\">\n",
              "        \n",
              "  <svg xmlns=\"http://www.w3.org/2000/svg\" height=\"24px\"viewBox=\"0 0 24 24\"\n",
              "       width=\"24px\">\n",
              "    <path d=\"M0 0h24v24H0V0z\" fill=\"none\"/>\n",
              "    <path d=\"M18.56 5.44l.94 2.06.94-2.06 2.06-.94-2.06-.94-.94-2.06-.94 2.06-2.06.94zm-11 1L8.5 8.5l.94-2.06 2.06-.94-2.06-.94L8.5 2.5l-.94 2.06-2.06.94zm10 10l.94 2.06.94-2.06 2.06-.94-2.06-.94-.94-2.06-.94 2.06-2.06.94z\"/><path d=\"M17.41 7.96l-1.37-1.37c-.4-.4-.92-.59-1.43-.59-.52 0-1.04.2-1.43.59L10.3 9.45l-7.72 7.72c-.78.78-.78 2.05 0 2.83L4 21.41c.39.39.9.59 1.41.59.51 0 1.02-.2 1.41-.59l7.78-7.78 2.81-2.81c.8-.78.8-2.07 0-2.86zM5.41 20L4 18.59l7.72-7.72 1.47 1.35L5.41 20z\"/>\n",
              "  </svg>\n",
              "      </button>\n",
              "      \n",
              "  <style>\n",
              "    .colab-df-container {\n",
              "      display:flex;\n",
              "      flex-wrap:wrap;\n",
              "      gap: 12px;\n",
              "    }\n",
              "\n",
              "    .colab-df-convert {\n",
              "      background-color: #E8F0FE;\n",
              "      border: none;\n",
              "      border-radius: 50%;\n",
              "      cursor: pointer;\n",
              "      display: none;\n",
              "      fill: #1967D2;\n",
              "      height: 32px;\n",
              "      padding: 0 0 0 0;\n",
              "      width: 32px;\n",
              "    }\n",
              "\n",
              "    .colab-df-convert:hover {\n",
              "      background-color: #E2EBFA;\n",
              "      box-shadow: 0px 1px 2px rgba(60, 64, 67, 0.3), 0px 1px 3px 1px rgba(60, 64, 67, 0.15);\n",
              "      fill: #174EA6;\n",
              "    }\n",
              "\n",
              "    [theme=dark] .colab-df-convert {\n",
              "      background-color: #3B4455;\n",
              "      fill: #D2E3FC;\n",
              "    }\n",
              "\n",
              "    [theme=dark] .colab-df-convert:hover {\n",
              "      background-color: #434B5C;\n",
              "      box-shadow: 0px 1px 3px 1px rgba(0, 0, 0, 0.15);\n",
              "      filter: drop-shadow(0px 1px 2px rgba(0, 0, 0, 0.3));\n",
              "      fill: #FFFFFF;\n",
              "    }\n",
              "  </style>\n",
              "\n",
              "      <script>\n",
              "        const buttonEl =\n",
              "          document.querySelector('#df-0fa59c96-b5fe-4627-954a-262ddc28f60c button.colab-df-convert');\n",
              "        buttonEl.style.display =\n",
              "          google.colab.kernel.accessAllowed ? 'block' : 'none';\n",
              "\n",
              "        async function convertToInteractive(key) {\n",
              "          const element = document.querySelector('#df-0fa59c96-b5fe-4627-954a-262ddc28f60c');\n",
              "          const dataTable =\n",
              "            await google.colab.kernel.invokeFunction('convertToInteractive',\n",
              "                                                     [key], {});\n",
              "          if (!dataTable) return;\n",
              "\n",
              "          const docLinkHtml = 'Like what you see? Visit the ' +\n",
              "            '<a target=\"_blank\" href=https://colab.research.google.com/notebooks/data_table.ipynb>data table notebook</a>'\n",
              "            + ' to learn more about interactive tables.';\n",
              "          element.innerHTML = '';\n",
              "          dataTable['output_type'] = 'display_data';\n",
              "          await google.colab.output.renderOutput(dataTable, element);\n",
              "          const docLink = document.createElement('div');\n",
              "          docLink.innerHTML = docLinkHtml;\n",
              "          element.appendChild(docLink);\n",
              "        }\n",
              "      </script>\n",
              "    </div>\n",
              "  </div>\n",
              "  "
            ]
          },
          "metadata": {},
          "execution_count": 54
        }
      ]
    },
    {
      "cell_type": "code",
      "source": [],
      "metadata": {
        "id": "UcbnxgjqBKQu"
      },
      "execution_count": 40,
      "outputs": []
    },
    {
      "cell_type": "code",
      "source": [
        "from imblearn.combine import SMOTETomek\n",
        "from imblearn.under_sampling import TomekLinks\n",
        "\n",
        "SMOTETomek_ = SMOTETomek(tomek=TomekLinks(sampling_strategy='majority'))\n"
      ],
      "metadata": {
        "id": "dNI9FZcDBNs1"
      },
      "execution_count": 41,
      "outputs": []
    },
    {
      "cell_type": "code",
      "source": [
        "X_train, y_train = SMOTETomek_.fit_resample(X_train, y_train)\n"
      ],
      "metadata": {
        "id": "0kCyS8EBibVe"
      },
      "execution_count": 43,
      "outputs": []
    },
    {
      "cell_type": "code",
      "source": [
        "import tensorflow as tf\n",
        "from tensorflow.keras.models import Sequential\n",
        "from tensorflow.keras.layers import Dense, Activation, Dropout\n",
        "from tensorflow.keras.callbacks import EarlyStopping\n",
        "\n",
        "model = Sequential()\n",
        "\n",
        "# https://stats.stackexchange.com/questions/181/how-to-choose-the-number-of-hidden-layers-and-nodes-in-a-feedforward-neural-netw\n",
        "\n",
        "model.add(Dense(units=29,activation='relu'))\n",
        "model.add(Dropout(0.3))\n",
        "\n",
        "model.add(Dense(units=14,activation='relu'))\n",
        "model.add(Dropout(0.1))\n",
        "\n",
        "model.add(Dense(units=7,activation='relu'))\n",
        "#model.add(Dropout(0.1))\n",
        "\n",
        "model.add(Dense(units=2,activation='relu'))\n",
        "\n",
        "model.add(Dense(units=1,activation='sigmoid'))\n",
        "\n",
        "# For a binary classification problem\n",
        "model.compile(loss='binary_crossentropy',\n",
        "              optimizer='adam',\n",
        "              metrics=[tf.keras.metrics.FalsePositives()])\n",
        "\n",
        "early_stop = EarlyStopping(monitor='val_loss', mode='min', verbose=2, patience=35)\n"
      ],
      "metadata": {
        "id": "CbwkFsNdiux6"
      },
      "execution_count": 44,
      "outputs": []
    },
    {
      "cell_type": "code",
      "source": [
        "model.fit(x=X_train, \n",
        "          y=y_train, \n",
        "          epochs=50,\n",
        "          validation_data=(X_test, y_test), verbose=2,\n",
        "          batch_size = 50000,\n",
        "          callbacks=[early_stop]\n",
        "          )\n",
        "\n"
      ],
      "metadata": {
        "colab": {
          "base_uri": "https://localhost:8080/"
        },
        "outputId": "dcb9562b-1cc7-423f-b77f-67b4f30bbf3e",
        "id": "GAvt6y-CivKE"
      },
      "execution_count": 45,
      "outputs": [
        {
          "output_type": "stream",
          "name": "stdout",
          "text": [
            "Epoch 1/50\n",
            "37/37 - 5s - loss: 0.6638 - false_positives_2: 333061.0000 - val_loss: 0.7259 - val_false_positives_2: 115230.0000 - 5s/epoch - 144ms/step\n",
            "Epoch 2/50\n",
            "37/37 - 2s - loss: 0.5493 - false_positives_2: 250578.0000 - val_loss: 0.6765 - val_false_positives_2: 33135.0000 - 2s/epoch - 68ms/step\n",
            "Epoch 3/50\n",
            "37/37 - 2s - loss: 0.4825 - false_positives_2: 104232.0000 - val_loss: 0.4829 - val_false_positives_2: 13551.0000 - 2s/epoch - 66ms/step\n",
            "Epoch 4/50\n",
            "37/37 - 2s - loss: 0.4271 - false_positives_2: 58229.0000 - val_loss: 0.3649 - val_false_positives_2: 12180.0000 - 2s/epoch - 66ms/step\n",
            "Epoch 5/50\n",
            "37/37 - 4s - loss: 0.4002 - false_positives_2: 51759.0000 - val_loss: 0.3234 - val_false_positives_2: 11771.0000 - 4s/epoch - 110ms/step\n",
            "Epoch 6/50\n",
            "37/37 - 4s - loss: 0.3832 - false_positives_2: 50972.0000 - val_loss: 0.2974 - val_false_positives_2: 10961.0000 - 4s/epoch - 118ms/step\n",
            "Epoch 7/50\n",
            "37/37 - 3s - loss: 0.3706 - false_positives_2: 50120.0000 - val_loss: 0.2823 - val_false_positives_2: 10548.0000 - 3s/epoch - 71ms/step\n",
            "Epoch 8/50\n",
            "37/37 - 2s - loss: 0.3593 - false_positives_2: 50175.0000 - val_loss: 0.2686 - val_false_positives_2: 10212.0000 - 2s/epoch - 67ms/step\n",
            "Epoch 9/50\n",
            "37/37 - 3s - loss: 0.3483 - false_positives_2: 51181.0000 - val_loss: 0.2582 - val_false_positives_2: 10288.0000 - 3s/epoch - 68ms/step\n",
            "Epoch 10/50\n",
            "37/37 - 2s - loss: 0.3382 - false_positives_2: 50855.0000 - val_loss: 0.2519 - val_false_positives_2: 10766.0000 - 2s/epoch - 66ms/step\n",
            "Epoch 11/50\n",
            "37/37 - 4s - loss: 0.3293 - false_positives_2: 50422.0000 - val_loss: 0.2436 - val_false_positives_2: 11425.0000 - 4s/epoch - 115ms/step\n",
            "Epoch 12/50\n",
            "37/37 - 3s - loss: 0.3205 - false_positives_2: 50797.0000 - val_loss: 0.2347 - val_false_positives_2: 11876.0000 - 3s/epoch - 94ms/step\n",
            "Epoch 13/50\n",
            "37/37 - 2s - loss: 0.3126 - false_positives_2: 52004.0000 - val_loss: 0.2308 - val_false_positives_2: 13303.0000 - 2s/epoch - 66ms/step\n",
            "Epoch 14/50\n",
            "37/37 - 2s - loss: 0.3048 - false_positives_2: 51886.0000 - val_loss: 0.2260 - val_false_positives_2: 13592.0000 - 2s/epoch - 67ms/step\n",
            "Epoch 15/50\n",
            "37/37 - 2s - loss: 0.2977 - false_positives_2: 51440.0000 - val_loss: 0.2207 - val_false_positives_2: 14101.0000 - 2s/epoch - 66ms/step\n",
            "Epoch 16/50\n",
            "37/37 - 3s - loss: 0.2913 - false_positives_2: 51634.0000 - val_loss: 0.2174 - val_false_positives_2: 13991.0000 - 3s/epoch - 88ms/step\n",
            "Epoch 17/50\n",
            "37/37 - 5s - loss: 0.2848 - false_positives_2: 51053.0000 - val_loss: 0.2135 - val_false_positives_2: 14421.0000 - 5s/epoch - 128ms/step\n",
            "Epoch 18/50\n",
            "37/37 - 3s - loss: 0.2790 - false_positives_2: 52341.0000 - val_loss: 0.2053 - val_false_positives_2: 14457.0000 - 3s/epoch - 86ms/step\n",
            "Epoch 19/50\n",
            "37/37 - 2s - loss: 0.2733 - false_positives_2: 53195.0000 - val_loss: 0.2027 - val_false_positives_2: 15243.0000 - 2s/epoch - 67ms/step\n",
            "Epoch 20/50\n",
            "37/37 - 2s - loss: 0.2673 - false_positives_2: 57110.0000 - val_loss: 0.1960 - val_false_positives_2: 15274.0000 - 2s/epoch - 66ms/step\n",
            "Epoch 21/50\n",
            "37/37 - 2s - loss: 0.2601 - false_positives_2: 61870.0000 - val_loss: 0.1848 - val_false_positives_2: 16658.0000 - 2s/epoch - 66ms/step\n",
            "Epoch 22/50\n",
            "37/37 - 4s - loss: 0.2526 - false_positives_2: 64747.0000 - val_loss: 0.1818 - val_false_positives_2: 18675.0000 - 4s/epoch - 95ms/step\n",
            "Epoch 23/50\n",
            "37/37 - 4s - loss: 0.2458 - false_positives_2: 66891.0000 - val_loss: 0.1798 - val_false_positives_2: 20144.0000 - 4s/epoch - 111ms/step\n",
            "Epoch 24/50\n",
            "37/37 - 2s - loss: 0.2404 - false_positives_2: 68484.0000 - val_loss: 0.1721 - val_false_positives_2: 19436.0000 - 2s/epoch - 67ms/step\n",
            "Epoch 25/50\n",
            "37/37 - 2s - loss: 0.2357 - false_positives_2: 69021.0000 - val_loss: 0.1651 - val_false_positives_2: 19781.0000 - 2s/epoch - 67ms/step\n",
            "Epoch 26/50\n",
            "37/37 - 2s - loss: 0.2315 - false_positives_2: 69620.0000 - val_loss: 0.1706 - val_false_positives_2: 21840.0000 - 2s/epoch - 65ms/step\n",
            "Epoch 27/50\n",
            "37/37 - 2s - loss: 0.2277 - false_positives_2: 69262.0000 - val_loss: 0.1613 - val_false_positives_2: 20235.0000 - 2s/epoch - 67ms/step\n",
            "Epoch 28/50\n",
            "37/37 - 5s - loss: 0.2241 - false_positives_2: 69105.0000 - val_loss: 0.1552 - val_false_positives_2: 19001.0000 - 5s/epoch - 125ms/step\n",
            "Epoch 29/50\n",
            "37/37 - 4s - loss: 0.2212 - false_positives_2: 67774.0000 - val_loss: 0.1587 - val_false_positives_2: 21538.0000 - 4s/epoch - 106ms/step\n",
            "Epoch 30/50\n",
            "37/37 - 2s - loss: 0.2181 - false_positives_2: 67776.0000 - val_loss: 0.1543 - val_false_positives_2: 20592.0000 - 2s/epoch - 66ms/step\n",
            "Epoch 31/50\n",
            "37/37 - 2s - loss: 0.2151 - false_positives_2: 66683.0000 - val_loss: 0.1454 - val_false_positives_2: 18528.0000 - 2s/epoch - 67ms/step\n",
            "Epoch 32/50\n",
            "37/37 - 2s - loss: 0.2127 - false_positives_2: 66106.0000 - val_loss: 0.1476 - val_false_positives_2: 19584.0000 - 2s/epoch - 65ms/step\n",
            "Epoch 33/50\n",
            "37/37 - 3s - loss: 0.2100 - false_positives_2: 65018.0000 - val_loss: 0.1454 - val_false_positives_2: 19209.0000 - 3s/epoch - 78ms/step\n",
            "Epoch 34/50\n",
            "37/37 - 4s - loss: 0.2077 - false_positives_2: 64530.0000 - val_loss: 0.1437 - val_false_positives_2: 19538.0000 - 4s/epoch - 120ms/step\n",
            "Epoch 35/50\n",
            "37/37 - 3s - loss: 0.2056 - false_positives_2: 64111.0000 - val_loss: 0.1424 - val_false_positives_2: 19306.0000 - 3s/epoch - 76ms/step\n",
            "Epoch 36/50\n",
            "37/37 - 2s - loss: 0.2041 - false_positives_2: 64144.0000 - val_loss: 0.1441 - val_false_positives_2: 20104.0000 - 2s/epoch - 66ms/step\n",
            "Epoch 37/50\n",
            "37/37 - 2s - loss: 0.2018 - false_positives_2: 63195.0000 - val_loss: 0.1408 - val_false_positives_2: 17638.0000 - 2s/epoch - 67ms/step\n",
            "Epoch 38/50\n",
            "37/37 - 2s - loss: 0.1994 - false_positives_2: 62803.0000 - val_loss: 0.1356 - val_false_positives_2: 17016.0000 - 2s/epoch - 66ms/step\n",
            "Epoch 39/50\n",
            "37/37 - 4s - loss: 0.1976 - false_positives_2: 62689.0000 - val_loss: 0.1303 - val_false_positives_2: 15208.0000 - 4s/epoch - 105ms/step\n",
            "Epoch 40/50\n",
            "37/37 - 4s - loss: 0.1961 - false_positives_2: 62322.0000 - val_loss: 0.1273 - val_false_positives_2: 14505.0000 - 4s/epoch - 116ms/step\n",
            "Epoch 41/50\n",
            "37/37 - 3s - loss: 0.1947 - false_positives_2: 62248.0000 - val_loss: 0.1320 - val_false_positives_2: 16634.0000 - 3s/epoch - 79ms/step\n",
            "Epoch 42/50\n",
            "37/37 - 3s - loss: 0.1936 - false_positives_2: 62115.0000 - val_loss: 0.1319 - val_false_positives_2: 16881.0000 - 3s/epoch - 68ms/step\n",
            "Epoch 43/50\n",
            "37/37 - 2s - loss: 0.1923 - false_positives_2: 61894.0000 - val_loss: 0.1317 - val_false_positives_2: 16116.0000 - 2s/epoch - 67ms/step\n",
            "Epoch 44/50\n",
            "37/37 - 2s - loss: 0.1909 - false_positives_2: 61330.0000 - val_loss: 0.1291 - val_false_positives_2: 14800.0000 - 2s/epoch - 67ms/step\n",
            "Epoch 45/50\n",
            "37/37 - 4s - loss: 0.1898 - false_positives_2: 60922.0000 - val_loss: 0.1243 - val_false_positives_2: 14337.0000 - 4s/epoch - 106ms/step\n",
            "Epoch 46/50\n",
            "37/37 - 4s - loss: 0.1891 - false_positives_2: 60633.0000 - val_loss: 0.1192 - val_false_positives_2: 12567.0000 - 4s/epoch - 120ms/step\n",
            "Epoch 47/50\n",
            "37/37 - 4s - loss: 0.1876 - false_positives_2: 59837.0000 - val_loss: 0.1248 - val_false_positives_2: 12724.0000 - 4s/epoch - 111ms/step\n",
            "Epoch 48/50\n",
            "37/37 - 4s - loss: 0.1857 - false_positives_2: 59488.0000 - val_loss: 0.1143 - val_false_positives_2: 10980.0000 - 4s/epoch - 101ms/step\n",
            "Epoch 49/50\n",
            "37/37 - 4s - loss: 0.1843 - false_positives_2: 58598.0000 - val_loss: 0.1082 - val_false_positives_2: 9229.0000 - 4s/epoch - 109ms/step\n",
            "Epoch 50/50\n",
            "37/37 - 4s - loss: 0.1832 - false_positives_2: 58355.0000 - val_loss: 0.1140 - val_false_positives_2: 10548.0000 - 4s/epoch - 116ms/step\n"
          ]
        },
        {
          "output_type": "execute_result",
          "data": {
            "text/plain": [
              "<keras.callbacks.History at 0x7f34cc1d0280>"
            ]
          },
          "metadata": {},
          "execution_count": 45
        }
      ]
    },
    {
      "cell_type": "code",
      "source": [
        "model_loss = pd.DataFrame(model.history.history)\n",
        "model_loss.plot()\n"
      ],
      "metadata": {
        "colab": {
          "base_uri": "https://localhost:8080/",
          "height": 447
        },
        "outputId": "691caa74-a1a6-4ca8-f9e3-b1404fc33c64",
        "id": "824Pz5mQivKF"
      },
      "execution_count": 46,
      "outputs": [
        {
          "output_type": "execute_result",
          "data": {
            "text/plain": [
              "<Axes: >"
            ]
          },
          "metadata": {},
          "execution_count": 46
        },
        {
          "output_type": "display_data",
          "data": {
            "text/plain": [
              "<Figure size 640x480 with 1 Axes>"
            ],
            "image/png": "[encoded data removed]"
          },
          "metadata": {}
        }
      ]
    },
    {
      "cell_type": "code",
      "source": [],
      "metadata": {
        "id": "a068U0opi_Wo"
      },
      "execution_count": 46,
      "outputs": []
    },
    {
      "cell_type": "code",
      "source": [
        "smot_tomek_y_pred = model.predict(X_test)"
      ],
      "metadata": {
        "colab": {
          "base_uri": "https://localhost:8080/"
        },
        "outputId": "3540905c-79d8-4f95-b3d5-9ac97cbf5cff",
        "id": "aDaqruIYivKG"
      },
      "execution_count": 47,
      "outputs": [
        {
          "output_type": "stream",
          "name": "stdout",
          "text": [
            "12157/12157 [==============================] - 21s 2ms/step\n"
          ]
        }
      ]
    },
    {
      "cell_type": "code",
      "source": [
        "smot_tomek_y_pred = (smot_tomek_y_pred > 0.5)*1\n"
      ],
      "metadata": {
        "id": "1BE1c_s_ivKH"
      },
      "execution_count": 48,
      "outputs": []
    },
    {
      "cell_type": "code",
      "source": [
        "from sklearn.metrics import classification_report,confusion_matrix,recall_score,precision_score,f1_score,accuracy_score\n",
        "print(classification_report(y_test,smot_tomek_y_pred))\n"
      ],
      "metadata": {
        "colab": {
          "base_uri": "https://localhost:8080/"
        },
        "outputId": "18e328a1-0753-489a-d800-897fc154ae09",
        "id": "hqRk8yI1ivKH"
      },
      "execution_count": 49,
      "outputs": [
        {
          "output_type": "stream",
          "name": "stdout",
          "text": [
            "              precision    recall  f1-score   support\n",
            "\n",
            "           0       1.00      0.97      0.99    386751\n",
            "           1       0.16      0.88      0.27      2252\n",
            "\n",
            "    accuracy                           0.97    389003\n",
            "   macro avg       0.58      0.93      0.63    389003\n",
            "weighted avg       0.99      0.97      0.98    389003\n",
            "\n"
          ]
        }
      ]
    },
    {
      "cell_type": "code",
      "source": [],
      "metadata": {
        "id": "evqQAMU7ivKH"
      },
      "execution_count": null,
      "outputs": []
    },
    {
      "cell_type": "code",
      "source": [
        "import matplotlib.pyplot as plt\n",
        "import seaborn as sns\n",
        "from sklearn.metrics import confusion_matrix\n",
        "\n",
        "# Create confusion matrix\n",
        "cf_matrix = confusion_matrix(y_test, smot_tomek_y_pred)\n",
        "\n",
        "labels = ['Not Fraud', 'Fraud']\n",
        "\n",
        "# Plot confusion matrix\n",
        "sns.heatmap(cf_matrix, annot=True, cmap='Blues', fmt='g', xticklabels=labels, yticklabels=labels)\n",
        "plt.title('Neural Network Confusion Matrix for SMOTE + Tomek')\n",
        "plt.xlabel('Predicted')\n",
        "plt.ylabel('Actual')\n",
        "plt.show()\n"
      ],
      "metadata": {
        "colab": {
          "base_uri": "https://localhost:8080/",
          "height": 472
        },
        "outputId": "6ecf7238-5a6e-453b-dcf1-7fd7a2774da7",
        "id": "7wL4j5YYivKI"
      },
      "execution_count": 50,
      "outputs": [
        {
          "output_type": "display_data",
          "data": {
            "text/plain": [
              "<Figure size 640x480 with 2 Axes>"
            ],
            "image/png": "[encoded data removed]"
          },
          "metadata": {}
        }
      ]
    },
    {
      "cell_type": "code",
      "source": [
        "smot_tomek_nn_cm = confusion_matrix(y_test, smot_tomek_y_pred)\n",
        "\n",
        "smot_tomek_nn_rf_Recall = recall_score(y_test, smot_tomek_y_pred)\n",
        "smot_tomek_nn_rf_Precision = precision_score(y_test, smot_tomek_y_pred)\n",
        "smot_tomek_nn_rf_f1 = f1_score(y_test, smot_tomek_y_pred)\n",
        "smot_tomek_nn_rf_accuracy = accuracy_score(y_test, smot_tomek_y_pred)\n",
        "\n",
        "print(smot_tomek_nn_cm)\n"
      ],
      "metadata": {
        "colab": {
          "base_uri": "https://localhost:8080/"
        },
        "outputId": "87e687f3-4682-4aa7-c68a-0b9e69db7438",
        "id": "-SlSLFHCivKI"
      },
      "execution_count": 51,
      "outputs": [
        {
          "output_type": "stream",
          "name": "stdout",
          "text": [
            "[[376203  10548]\n",
            " [   264   1988]]\n"
          ]
        }
      ]
    },
    {
      "cell_type": "code",
      "source": [],
      "metadata": {
        "id": "K_ZQl9mpiucR"
      },
      "execution_count": 51,
      "outputs": []
    },
    {
      "cell_type": "code",
      "source": [
        "ndf = [(smot_tomek_nn_rf_Recall, smot_tomek_nn_rf_Precision, smot_tomek_nn_rf_f1, smot_tomek_nn_rf_accuracy)]\n",
        "\n",
        "SMOTETomek_nn_score = pd.DataFrame(data = ndf, columns=['Recall','Precision','F1 Score', 'Accuracy'])\n",
        "SMOTETomek_nn_score.insert(0, 'Neural Network with', 'SMOTE + Tomek')\n",
        "SMOTETomek_nn_score\n"
      ],
      "metadata": {
        "colab": {
          "base_uri": "https://localhost:8080/",
          "height": 80
        },
        "id": "w3dmWLvGBMQZ",
        "outputId": "8c07620d-6d08-46bf-d038-979daa3b0dd8"
      },
      "execution_count": 59,
      "outputs": [
        {
          "output_type": "execute_result",
          "data": {
            "text/plain": [
              "  Neural Network with    Recall  Precision  F1 Score  Accuracy\n",
              "0       SMOTE + Tomek  0.882771   0.158583  0.268867  0.972206"
            ],
            "text/html": [
              "\n",
              "  <div id=\"df-9561c3f4-e7b2-41ee-8021-47c17a033e8e\">\n",
              "    <div class=\"colab-df-container\">\n",
              "      <div>\n",
              "<style scoped>\n",
              "    .dataframe tbody tr th:only-of-type {\n",
              "        vertical-align: middle;\n",
              "    }\n",
              "\n",
              "    .dataframe tbody tr th {\n",
              "        vertical-align: top;\n",
              "    }\n",
              "\n",
              "    .dataframe thead th {\n",
              "        text-align: right;\n",
              "    }\n",
              "</style>\n",
              "<table border=\"1\" class=\"dataframe\">\n",
              "  <thead>\n",
              "    <tr style=\"text-align: right;\">\n",
              "      <th></th>\n",
              "      <th>Neural Network with</th>\n",
              "      <th>Recall</th>\n",
              "      <th>Precision</th>\n",
              "      <th>F1 Score</th>\n",
              "      <th>Accuracy</th>\n",
              "    </tr>\n",
              "  </thead>\n",
              "  <tbody>\n",
              "    <tr>\n",
              "      <th>0</th>\n",
              "      <td>SMOTE + Tomek</td>\n",
              "      <td>0.882771</td>\n",
              "      <td>0.158583</td>\n",
              "      <td>0.268867</td>\n",
              "      <td>0.972206</td>\n",
              "    </tr>\n",
              "  </tbody>\n",
              "</table>\n",
              "</div>\n",
              "      <button class=\"colab-df-convert\" onclick=\"convertToInteractive('df-9561c3f4-e7b2-41ee-8021-47c17a033e8e')\"\n",
              "              title=\"Convert this dataframe to an interactive table.\"\n",
              "              style=\"display:none;\">\n",
              "        \n",
              "  <svg xmlns=\"http://www.w3.org/2000/svg\" height=\"24px\"viewBox=\"0 0 24 24\"\n",
              "       width=\"24px\">\n",
              "    <path d=\"M0 0h24v24H0V0z\" fill=\"none\"/>\n",
              "    <path d=\"M18.56 5.44l.94 2.06.94-2.06 2.06-.94-2.06-.94-.94-2.06-.94 2.06-2.06.94zm-11 1L8.5 8.5l.94-2.06 2.06-.94-2.06-.94L8.5 2.5l-.94 2.06-2.06.94zm10 10l.94 2.06.94-2.06 2.06-.94-2.06-.94-.94-2.06-.94 2.06-2.06.94z\"/><path d=\"M17.41 7.96l-1.37-1.37c-.4-.4-.92-.59-1.43-.59-.52 0-1.04.2-1.43.59L10.3 9.45l-7.72 7.72c-.78.78-.78 2.05 0 2.83L4 21.41c.39.39.9.59 1.41.59.51 0 1.02-.2 1.41-.59l7.78-7.78 2.81-2.81c.8-.78.8-2.07 0-2.86zM5.41 20L4 18.59l7.72-7.72 1.47 1.35L5.41 20z\"/>\n",
              "  </svg>\n",
              "      </button>\n",
              "      \n",
              "  <style>\n",
              "    .colab-df-container {\n",
              "      display:flex;\n",
              "      flex-wrap:wrap;\n",
              "      gap: 12px;\n",
              "    }\n",
              "\n",
              "    .colab-df-convert {\n",
              "      background-color: #E8F0FE;\n",
              "      border: none;\n",
              "      border-radius: 50%;\n",
              "      cursor: pointer;\n",
              "      display: none;\n",
              "      fill: #1967D2;\n",
              "      height: 32px;\n",
              "      padding: 0 0 0 0;\n",
              "      width: 32px;\n",
              "    }\n",
              "\n",
              "    .colab-df-convert:hover {\n",
              "      background-color: #E2EBFA;\n",
              "      box-shadow: 0px 1px 2px rgba(60, 64, 67, 0.3), 0px 1px 3px 1px rgba(60, 64, 67, 0.15);\n",
              "      fill: #174EA6;\n",
              "    }\n",
              "\n",
              "    [theme=dark] .colab-df-convert {\n",
              "      background-color: #3B4455;\n",
              "      fill: #D2E3FC;\n",
              "    }\n",
              "\n",
              "    [theme=dark] .colab-df-convert:hover {\n",
              "      background-color: #434B5C;\n",
              "      box-shadow: 0px 1px 3px 1px rgba(0, 0, 0, 0.15);\n",
              "      filter: drop-shadow(0px 1px 2px rgba(0, 0, 0, 0.3));\n",
              "      fill: #FFFFFF;\n",
              "    }\n",
              "  </style>\n",
              "\n",
              "      <script>\n",
              "        const buttonEl =\n",
              "          document.querySelector('#df-9561c3f4-e7b2-41ee-8021-47c17a033e8e button.colab-df-convert');\n",
              "        buttonEl.style.display =\n",
              "          google.colab.kernel.accessAllowed ? 'block' : 'none';\n",
              "\n",
              "        async function convertToInteractive(key) {\n",
              "          const element = document.querySelector('#df-9561c3f4-e7b2-41ee-8021-47c17a033e8e');\n",
              "          const dataTable =\n",
              "            await google.colab.kernel.invokeFunction('convertToInteractive',\n",
              "                                                     [key], {});\n",
              "          if (!dataTable) return;\n",
              "\n",
              "          const docLinkHtml = 'Like what you see? Visit the ' +\n",
              "            '<a target=\"_blank\" href=https://colab.research.google.com/notebooks/data_table.ipynb>data table notebook</a>'\n",
              "            + ' to learn more about interactive tables.';\n",
              "          element.innerHTML = '';\n",
              "          dataTable['output_type'] = 'display_data';\n",
              "          await google.colab.output.renderOutput(dataTable, element);\n",
              "          const docLink = document.createElement('div');\n",
              "          docLink.innerHTML = docLinkHtml;\n",
              "          element.appendChild(docLink);\n",
              "        }\n",
              "      </script>\n",
              "    </div>\n",
              "  </div>\n",
              "  "
            ]
          },
          "metadata": {},
          "execution_count": 59
        }
      ]
    },
    {
      "cell_type": "code",
      "source": [],
      "metadata": {
        "id": "gFjpA3eeBMC-"
      },
      "execution_count": 59,
      "outputs": []
    },
    {
      "cell_type": "code",
      "source": [
        "predictions = pd.concat([over_nn_score, smote_nn_score, SMOTETomek_nn_score], ignore_index=True, sort=False)\n",
        "predictions.sort_values(by=['Recall'], ascending=False)\n"
      ],
      "metadata": {
        "colab": {
          "base_uri": "https://localhost:8080/",
          "height": 142
        },
        "id": "7YOvxWGkBz91",
        "outputId": "4e4435b6-483d-4dd0-a396-8d7e99e8b8a7"
      },
      "execution_count": 62,
      "outputs": [
        {
          "output_type": "execute_result",
          "data": {
            "text/plain": [
              "  Neural Network with    Recall  Precision  F1 Score  Accuracy\n",
              "0        Oversampling  0.916075   0.078513  0.144630  0.937270\n",
              "1  SMOTE Oversampling  0.892096   0.105893  0.189314  0.955769\n",
              "2       SMOTE + Tomek  0.882771   0.158583  0.268867  0.972206"
            ],
            "text/html": [
              "\n",
              "  <div id=\"df-b0cc892b-d8d2-4da2-a28e-fcb4481662b9\">\n",
              "    <div class=\"colab-df-container\">\n",
              "      <div>\n",
              "<style scoped>\n",
              "    .dataframe tbody tr th:only-of-type {\n",
              "        vertical-align: middle;\n",
              "    }\n",
              "\n",
              "    .dataframe tbody tr th {\n",
              "        vertical-align: top;\n",
              "    }\n",
              "\n",
              "    .dataframe thead th {\n",
              "        text-align: right;\n",
              "    }\n",
              "</style>\n",
              "<table border=\"1\" class=\"dataframe\">\n",
              "  <thead>\n",
              "    <tr style=\"text-align: right;\">\n",
              "      <th></th>\n",
              "      <th>Neural Network with</th>\n",
              "      <th>Recall</th>\n",
              "      <th>Precision</th>\n",
              "      <th>F1 Score</th>\n",
              "      <th>Accuracy</th>\n",
              "    </tr>\n",
              "  </thead>\n",
              "  <tbody>\n",
              "    <tr>\n",
              "      <th>0</th>\n",
              "      <td>Oversampling</td>\n",
              "      <td>0.916075</td>\n",
              "      <td>0.078513</td>\n",
              "      <td>0.144630</td>\n",
              "      <td>0.937270</td>\n",
              "    </tr>\n",
              "    <tr>\n",
              "      <th>1</th>\n",
              "      <td>SMOTE Oversampling</td>\n",
              "      <td>0.892096</td>\n",
              "      <td>0.105893</td>\n",
              "      <td>0.189314</td>\n",
              "      <td>0.955769</td>\n",
              "    </tr>\n",
              "    <tr>\n",
              "      <th>2</th>\n",
              "      <td>SMOTE + Tomek</td>\n",
              "      <td>0.882771</td>\n",
              "      <td>0.158583</td>\n",
              "      <td>0.268867</td>\n",
              "      <td>0.972206</td>\n",
              "    </tr>\n",
              "  </tbody>\n",
              "</table>\n",
              "</div>\n",
              "      <button class=\"colab-df-convert\" onclick=\"convertToInteractive('df-b0cc892b-d8d2-4da2-a28e-fcb4481662b9')\"\n",
              "              title=\"Convert this dataframe to an interactive table.\"\n",
              "              style=\"display:none;\">\n",
              "        \n",
              "  <svg xmlns=\"http://www.w3.org/2000/svg\" height=\"24px\"viewBox=\"0 0 24 24\"\n",
              "       width=\"24px\">\n",
              "    <path d=\"M0 0h24v24H0V0z\" fill=\"none\"/>\n",
              "    <path d=\"M18.56 5.44l.94 2.06.94-2.06 2.06-.94-2.06-.94-.94-2.06-.94 2.06-2.06.94zm-11 1L8.5 8.5l.94-2.06 2.06-.94-2.06-.94L8.5 2.5l-.94 2.06-2.06.94zm10 10l.94 2.06.94-2.06 2.06-.94-2.06-.94-.94-2.06-.94 2.06-2.06.94z\"/><path d=\"M17.41 7.96l-1.37-1.37c-.4-.4-.92-.59-1.43-.59-.52 0-1.04.2-1.43.59L10.3 9.45l-7.72 7.72c-.78.78-.78 2.05 0 2.83L4 21.41c.39.39.9.59 1.41.59.51 0 1.02-.2 1.41-.59l7.78-7.78 2.81-2.81c.8-.78.8-2.07 0-2.86zM5.41 20L4 18.59l7.72-7.72 1.47 1.35L5.41 20z\"/>\n",
              "  </svg>\n",
              "      </button>\n",
              "      \n",
              "  <style>\n",
              "    .colab-df-container {\n",
              "      display:flex;\n",
              "      flex-wrap:wrap;\n",
              "      gap: 12px;\n",
              "    }\n",
              "\n",
              "    .colab-df-convert {\n",
              "      background-color: #E8F0FE;\n",
              "      border: none;\n",
              "      border-radius: 50%;\n",
              "      cursor: pointer;\n",
              "      display: none;\n",
              "      fill: #1967D2;\n",
              "      height: 32px;\n",
              "      padding: 0 0 0 0;\n",
              "      width: 32px;\n",
              "    }\n",
              "\n",
              "    .colab-df-convert:hover {\n",
              "      background-color: #E2EBFA;\n",
              "      box-shadow: 0px 1px 2px rgba(60, 64, 67, 0.3), 0px 1px 3px 1px rgba(60, 64, 67, 0.15);\n",
              "      fill: #174EA6;\n",
              "    }\n",
              "\n",
              "    [theme=dark] .colab-df-convert {\n",
              "      background-color: #3B4455;\n",
              "      fill: #D2E3FC;\n",
              "    }\n",
              "\n",
              "    [theme=dark] .colab-df-convert:hover {\n",
              "      background-color: #434B5C;\n",
              "      box-shadow: 0px 1px 3px 1px rgba(0, 0, 0, 0.15);\n",
              "      filter: drop-shadow(0px 1px 2px rgba(0, 0, 0, 0.3));\n",
              "      fill: #FFFFFF;\n",
              "    }\n",
              "  </style>\n",
              "\n",
              "      <script>\n",
              "        const buttonEl =\n",
              "          document.querySelector('#df-b0cc892b-d8d2-4da2-a28e-fcb4481662b9 button.colab-df-convert');\n",
              "        buttonEl.style.display =\n",
              "          google.colab.kernel.accessAllowed ? 'block' : 'none';\n",
              "\n",
              "        async function convertToInteractive(key) {\n",
              "          const element = document.querySelector('#df-b0cc892b-d8d2-4da2-a28e-fcb4481662b9');\n",
              "          const dataTable =\n",
              "            await google.colab.kernel.invokeFunction('convertToInteractive',\n",
              "                                                     [key], {});\n",
              "          if (!dataTable) return;\n",
              "\n",
              "          const docLinkHtml = 'Like what you see? Visit the ' +\n",
              "            '<a target=\"_blank\" href=https://colab.research.google.com/notebooks/data_table.ipynb>data table notebook</a>'\n",
              "            + ' to learn more about interactive tables.';\n",
              "          element.innerHTML = '';\n",
              "          dataTable['output_type'] = 'display_data';\n",
              "          await google.colab.output.renderOutput(dataTable, element);\n",
              "          const docLink = document.createElement('div');\n",
              "          docLink.innerHTML = docLinkHtml;\n",
              "          element.appendChild(docLink);\n",
              "        }\n",
              "      </script>\n",
              "    </div>\n",
              "  </div>\n",
              "  "
            ]
          },
          "metadata": {},
          "execution_count": 62
        }
      ]
    },
    {
      "cell_type": "code",
      "source": [],
      "metadata": {
        "id": "LMC9jIs69D-q"
      },
      "execution_count": 64,
      "outputs": []
    },
    {
      "cell_type": "code",
      "source": [],
      "metadata": {
        "id": "pg5Ajbqlw6Oc"
      },
      "execution_count": null,
      "outputs": []
    }
  ]
}